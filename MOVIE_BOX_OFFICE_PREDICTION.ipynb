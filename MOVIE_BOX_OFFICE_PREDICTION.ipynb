{
  "nbformat": 4,
  "nbformat_minor": 0,
  "metadata": {
    "colab": {
      "provenance": [],
      "include_colab_link": true
    },
    "kernelspec": {
      "name": "python3",
      "display_name": "Python 3"
    },
    "language_info": {
      "name": "python"
    }
  },
  "cells": [
    {
      "cell_type": "markdown",
      "metadata": {
        "id": "view-in-github",
        "colab_type": "text"
      },
      "source": [
        "<a href=\"https://colab.research.google.com/github/shubh28012004/MOVIE_BOX_OFFICE_PREDICTION/blob/main/MOVIE_BOX_OFFICE_PREDICTION.ipynb\" target=\"_parent\"><img src=\"https://colab.research.google.com/assets/colab-badge.svg\" alt=\"Open In Colab\"/></a>"
      ]
    },
    {
      "cell_type": "markdown",
      "source": [
        "# **MOVIE BOX OFFICE REVENUE PREDICTION SYSTEM**"
      ],
      "metadata": {
        "id": "8HiYnuZhW5xt"
      }
    },
    {
      "cell_type": "markdown",
      "source": [
        "----\n",
        "AIML B2\n",
        "\n",
        "Shubh Agarwal - 22070126108\n",
        "\n",
        "Sneh Patel - 2270126113\n",
        "\n",
        "Shreyasee Shinde - 22070126106\n",
        "\n",
        "\n",
        "----"
      ],
      "metadata": {
        "id": "e6kx5xP308fz"
      }
    },
    {
      "cell_type": "markdown",
      "source": [
        "# **INTRODUCTION**"
      ],
      "metadata": {
        "id": "tllUzZrn1ID8"
      }
    },
    {
      "cell_type": "markdown",
      "source": [
        "This Project aims to give an idea of a real time business scenario based on EDA and DPL . As we know that Film production companies want to predict a movie's potential box office revenue based on pre-release information to optimize their marketing and distribution strategies. They seek to identify key factors that significantly influence a movie's box office performance."
      ],
      "metadata": {
        "id": "1tH1W_qc1K4A"
      }
    },
    {
      "cell_type": "markdown",
      "source": [
        "-----\n",
        "# BUSINESS UNDERSTANDING"
      ],
      "metadata": {
        "id": "77wwF0Pz1oRG"
      }
    },
    {
      "cell_type": "markdown",
      "source": [
        "We started building a prediction model which makes educated guess on a movie’s earnings. This project isn’t about numbers; its about decoding the magic behind top movies. We are not using Crystal balls, but magic of math and Machine Learning with a spice of storytelling.\n",
        "\n",
        "Join us as we explore the world of  movies and data science, where we turn raw scraped data into a useful dataset with a prediction model. This is the story of predicting revenue, one at a time.\n"
      ],
      "metadata": {
        "id": "ch0W3chJ1r1z"
      }
    },
    {
      "cell_type": "markdown",
      "source": [
        "-----\n",
        "# BUSINESS OBJECTIVE"
      ],
      "metadata": {
        "id": "pqmEqnvP3IUy"
      }
    },
    {
      "cell_type": "markdown",
      "source": [
        "**Predictive Accuracy:** Create a strong predictive model that can be used to forecast box office receipts for films with precision, assisting producers in making the best decisions.\n",
        "\n",
        "**Key Factor Identification:** Assist production businesses in customising their strategy, identify the crucial elements that greatly impact a film's box office performance.\n",
        "\n",
        "\n",
        "\n",
        "**Enrichment of the Audience:** Give film buffs insightful information about the business to help them develop a greater appreciation and understanding of the film industry.\n",
        "\n",
        "**User-Friendly Interface:** Provide a user-friendly interface that allows both experts and amateurs to access and interact with the prediction model.\n",
        "\n",
        "**Continuous Improvement:** Add additional data sources for increased accuracy and update and improve the model on a regular basis to accommodate the changing needs of the film business.\n",
        "\n",
        "Our goal is to provide a complete, approachable solution that connects the two worlds.\n",
        "\n",
        "-----\n"
      ],
      "metadata": {
        "id": "pR9E_pk43Ly-"
      }
    },
    {
      "cell_type": "markdown",
      "source": [
        "# **GETTING NOTEBOOK READY**\n",
        "\n"
      ],
      "metadata": {
        "id": "o9MZXl583NvD"
      }
    },
    {
      "cell_type": "markdown",
      "source": [
        "Importing Python Libraries"
      ],
      "metadata": {
        "id": "0UGEDaM03S61"
      }
    },
    {
      "cell_type": "code",
      "execution_count": 1,
      "metadata": {
        "id": "k4VCXosIWDIT"
      },
      "outputs": [],
      "source": [
        "import numpy as np\n",
        "import pandas as pd\n",
        "import matplotlib.pyplot as plt\n",
        "import seaborn as sns\n",
        "from sklearn.preprocessing import StandardScaler\n",
        "from sklearn.model_selection import train_test_split\n",
        "from sklearn.ensemble import RandomForestRegressor\n",
        "from sklearn.metrics import mean_absolute_error, mean_squared_error, r2_score"
      ]
    },
    {
      "cell_type": "markdown",
      "source": [
        "Supressing Warnings"
      ],
      "metadata": {
        "id": "vt6cvzp26YUO"
      }
    },
    {
      "cell_type": "code",
      "source": [
        "import warnings\n",
        "warnings.filterwarnings('ignore')"
      ],
      "metadata": {
        "id": "J-p_36la3hB2"
      },
      "execution_count": 2,
      "outputs": []
    },
    {
      "cell_type": "markdown",
      "source": [
        "Reading and understanding the Data"
      ],
      "metadata": {
        "id": "FHUgCYNq6gYS"
      }
    },
    {
      "cell_type": "markdown",
      "source": [
        "Importing the dataset"
      ],
      "metadata": {
        "id": "U1Tf_0gz6kaG"
      }
    },
    {
      "cell_type": "code",
      "source": [
        "df = pd.read_csv(\"/content/movies (2).csv\")"
      ],
      "metadata": {
        "id": "zaZ5-P5n6chf"
      },
      "execution_count": 3,
      "outputs": []
    },
    {
      "cell_type": "code",
      "source": [
        "df.head()\n"
      ],
      "metadata": {
        "colab": {
          "base_uri": "https://localhost:8080/",
          "height": 362
        },
        "id": "SitkCtHC6ojQ",
        "outputId": "0574a44f-a8be-4373-a283-52e7fb7dd647"
      },
      "execution_count": 4,
      "outputs": [
        {
          "output_type": "execute_result",
          "data": {
            "text/plain": [
              "                                   Name_of_movie Year_of_release  Watchtime  \\\n",
              "0                       The Shawshank Redemption           1994         142   \n",
              "1                                  The Godfather           1972         175   \n",
              "2                                The Dark Knight           2008         152   \n",
              "3                               Schindler's List           1993         195   \n",
              "4  The Lord of the Rings: The Return of the King           2003         201   \n",
              "\n",
              "   Movie_Rating Metascore      Votes   Grosses  \\\n",
              "0           9.3        82  2,811,733   $28.34M   \n",
              "1           9.2       100  1,959,532  $134.97M   \n",
              "2           9.0        84  2,793,415  $534.86M   \n",
              "3           9.0        95  1,413,454   $96.90M   \n",
              "4           9.0        94  1,925,087  $377.85M   \n",
              "\n",
              "                                         Description              Director  \\\n",
              "0  Over the course of several years, two convicts...        Frank Darabont   \n",
              "1  Don Vito Corleone, head of a mafia family, dec...  Francis Ford Coppola   \n",
              "2  When the menace known as the Joker wreaks havo...     Christopher Nolan   \n",
              "3  In German-occupied Poland during World War II,...      Steven Spielberg   \n",
              "4  Gandalf and Aragorn lead the World of Men agai...         Peter Jackson   \n",
              "\n",
              "                                               Stars  \\\n",
              "0  ['Tim Robbins', 'Morgan Freeman', 'Bob Gunton'...   \n",
              "1  ['Marlon Brando', 'Al Pacino', 'James Caan', '...   \n",
              "2  ['Christian Bale', 'Heath Ledger', 'Aaron Eckh...   \n",
              "3  ['Liam Neeson', 'Ralph Fiennes', 'Ben Kingsley...   \n",
              "4  ['Elijah Wood', 'Viggo Mortensen', 'Ian McKell...   \n",
              "\n",
              "                                    Genres  \n",
              "0                      \\nDrama              \n",
              "1               \\nCrime, Drama              \n",
              "2       \\nAction, Crime, Drama              \n",
              "3  \\nBiography, Drama, History              \n",
              "4   \\nAction, Adventure, Drama              "
            ],
            "text/html": [
              "\n",
              "  <div id=\"df-5fda9b2a-be0d-49d7-aad2-f81191d75942\" class=\"colab-df-container\">\n",
              "    <div>\n",
              "<style scoped>\n",
              "    .dataframe tbody tr th:only-of-type {\n",
              "        vertical-align: middle;\n",
              "    }\n",
              "\n",
              "    .dataframe tbody tr th {\n",
              "        vertical-align: top;\n",
              "    }\n",
              "\n",
              "    .dataframe thead th {\n",
              "        text-align: right;\n",
              "    }\n",
              "</style>\n",
              "<table border=\"1\" class=\"dataframe\">\n",
              "  <thead>\n",
              "    <tr style=\"text-align: right;\">\n",
              "      <th></th>\n",
              "      <th>Name_of_movie</th>\n",
              "      <th>Year_of_release</th>\n",
              "      <th>Watchtime</th>\n",
              "      <th>Movie_Rating</th>\n",
              "      <th>Metascore</th>\n",
              "      <th>Votes</th>\n",
              "      <th>Grosses</th>\n",
              "      <th>Description</th>\n",
              "      <th>Director</th>\n",
              "      <th>Stars</th>\n",
              "      <th>Genres</th>\n",
              "    </tr>\n",
              "  </thead>\n",
              "  <tbody>\n",
              "    <tr>\n",
              "      <th>0</th>\n",
              "      <td>The Shawshank Redemption</td>\n",
              "      <td>1994</td>\n",
              "      <td>142</td>\n",
              "      <td>9.3</td>\n",
              "      <td>82</td>\n",
              "      <td>2,811,733</td>\n",
              "      <td>$28.34M</td>\n",
              "      <td>Over the course of several years, two convicts...</td>\n",
              "      <td>Frank Darabont</td>\n",
              "      <td>['Tim Robbins', 'Morgan Freeman', 'Bob Gunton'...</td>\n",
              "      <td>\\nDrama</td>\n",
              "    </tr>\n",
              "    <tr>\n",
              "      <th>1</th>\n",
              "      <td>The Godfather</td>\n",
              "      <td>1972</td>\n",
              "      <td>175</td>\n",
              "      <td>9.2</td>\n",
              "      <td>100</td>\n",
              "      <td>1,959,532</td>\n",
              "      <td>$134.97M</td>\n",
              "      <td>Don Vito Corleone, head of a mafia family, dec...</td>\n",
              "      <td>Francis Ford Coppola</td>\n",
              "      <td>['Marlon Brando', 'Al Pacino', 'James Caan', '...</td>\n",
              "      <td>\\nCrime, Drama</td>\n",
              "    </tr>\n",
              "    <tr>\n",
              "      <th>2</th>\n",
              "      <td>The Dark Knight</td>\n",
              "      <td>2008</td>\n",
              "      <td>152</td>\n",
              "      <td>9.0</td>\n",
              "      <td>84</td>\n",
              "      <td>2,793,415</td>\n",
              "      <td>$534.86M</td>\n",
              "      <td>When the menace known as the Joker wreaks havo...</td>\n",
              "      <td>Christopher Nolan</td>\n",
              "      <td>['Christian Bale', 'Heath Ledger', 'Aaron Eckh...</td>\n",
              "      <td>\\nAction, Crime, Drama</td>\n",
              "    </tr>\n",
              "    <tr>\n",
              "      <th>3</th>\n",
              "      <td>Schindler's List</td>\n",
              "      <td>1993</td>\n",
              "      <td>195</td>\n",
              "      <td>9.0</td>\n",
              "      <td>95</td>\n",
              "      <td>1,413,454</td>\n",
              "      <td>$96.90M</td>\n",
              "      <td>In German-occupied Poland during World War II,...</td>\n",
              "      <td>Steven Spielberg</td>\n",
              "      <td>['Liam Neeson', 'Ralph Fiennes', 'Ben Kingsley...</td>\n",
              "      <td>\\nBiography, Drama, History</td>\n",
              "    </tr>\n",
              "    <tr>\n",
              "      <th>4</th>\n",
              "      <td>The Lord of the Rings: The Return of the King</td>\n",
              "      <td>2003</td>\n",
              "      <td>201</td>\n",
              "      <td>9.0</td>\n",
              "      <td>94</td>\n",
              "      <td>1,925,087</td>\n",
              "      <td>$377.85M</td>\n",
              "      <td>Gandalf and Aragorn lead the World of Men agai...</td>\n",
              "      <td>Peter Jackson</td>\n",
              "      <td>['Elijah Wood', 'Viggo Mortensen', 'Ian McKell...</td>\n",
              "      <td>\\nAction, Adventure, Drama</td>\n",
              "    </tr>\n",
              "  </tbody>\n",
              "</table>\n",
              "</div>\n",
              "    <div class=\"colab-df-buttons\">\n",
              "\n",
              "  <div class=\"colab-df-container\">\n",
              "    <button class=\"colab-df-convert\" onclick=\"convertToInteractive('df-5fda9b2a-be0d-49d7-aad2-f81191d75942')\"\n",
              "            title=\"Convert this dataframe to an interactive table.\"\n",
              "            style=\"display:none;\">\n",
              "\n",
              "  <svg xmlns=\"http://www.w3.org/2000/svg\" height=\"24px\" viewBox=\"0 -960 960 960\">\n",
              "    <path d=\"M120-120v-720h720v720H120Zm60-500h600v-160H180v160Zm220 220h160v-160H400v160Zm0 220h160v-160H400v160ZM180-400h160v-160H180v160Zm440 0h160v-160H620v160ZM180-180h160v-160H180v160Zm440 0h160v-160H620v160Z\"/>\n",
              "  </svg>\n",
              "    </button>\n",
              "\n",
              "  <style>\n",
              "    .colab-df-container {\n",
              "      display:flex;\n",
              "      gap: 12px;\n",
              "    }\n",
              "\n",
              "    .colab-df-convert {\n",
              "      background-color: #E8F0FE;\n",
              "      border: none;\n",
              "      border-radius: 50%;\n",
              "      cursor: pointer;\n",
              "      display: none;\n",
              "      fill: #1967D2;\n",
              "      height: 32px;\n",
              "      padding: 0 0 0 0;\n",
              "      width: 32px;\n",
              "    }\n",
              "\n",
              "    .colab-df-convert:hover {\n",
              "      background-color: #E2EBFA;\n",
              "      box-shadow: 0px 1px 2px rgba(60, 64, 67, 0.3), 0px 1px 3px 1px rgba(60, 64, 67, 0.15);\n",
              "      fill: #174EA6;\n",
              "    }\n",
              "\n",
              "    .colab-df-buttons div {\n",
              "      margin-bottom: 4px;\n",
              "    }\n",
              "\n",
              "    [theme=dark] .colab-df-convert {\n",
              "      background-color: #3B4455;\n",
              "      fill: #D2E3FC;\n",
              "    }\n",
              "\n",
              "    [theme=dark] .colab-df-convert:hover {\n",
              "      background-color: #434B5C;\n",
              "      box-shadow: 0px 1px 3px 1px rgba(0, 0, 0, 0.15);\n",
              "      filter: drop-shadow(0px 1px 2px rgba(0, 0, 0, 0.3));\n",
              "      fill: #FFFFFF;\n",
              "    }\n",
              "  </style>\n",
              "\n",
              "    <script>\n",
              "      const buttonEl =\n",
              "        document.querySelector('#df-5fda9b2a-be0d-49d7-aad2-f81191d75942 button.colab-df-convert');\n",
              "      buttonEl.style.display =\n",
              "        google.colab.kernel.accessAllowed ? 'block' : 'none';\n",
              "\n",
              "      async function convertToInteractive(key) {\n",
              "        const element = document.querySelector('#df-5fda9b2a-be0d-49d7-aad2-f81191d75942');\n",
              "        const dataTable =\n",
              "          await google.colab.kernel.invokeFunction('convertToInteractive',\n",
              "                                                    [key], {});\n",
              "        if (!dataTable) return;\n",
              "\n",
              "        const docLinkHtml = 'Like what you see? Visit the ' +\n",
              "          '<a target=\"_blank\" href=https://colab.research.google.com/notebooks/data_table.ipynb>data table notebook</a>'\n",
              "          + ' to learn more about interactive tables.';\n",
              "        element.innerHTML = '';\n",
              "        dataTable['output_type'] = 'display_data';\n",
              "        await google.colab.output.renderOutput(dataTable, element);\n",
              "        const docLink = document.createElement('div');\n",
              "        docLink.innerHTML = docLinkHtml;\n",
              "        element.appendChild(docLink);\n",
              "      }\n",
              "    </script>\n",
              "  </div>\n",
              "\n",
              "\n",
              "<div id=\"df-d2da1085-df7f-4e4f-bdb4-95ac3680ae7a\">\n",
              "  <button class=\"colab-df-quickchart\" onclick=\"quickchart('df-d2da1085-df7f-4e4f-bdb4-95ac3680ae7a')\"\n",
              "            title=\"Suggest charts.\"\n",
              "            style=\"display:none;\">\n",
              "\n",
              "<svg xmlns=\"http://www.w3.org/2000/svg\" height=\"24px\"viewBox=\"0 0 24 24\"\n",
              "     width=\"24px\">\n",
              "    <g>\n",
              "        <path d=\"M19 3H5c-1.1 0-2 .9-2 2v14c0 1.1.9 2 2 2h14c1.1 0 2-.9 2-2V5c0-1.1-.9-2-2-2zM9 17H7v-7h2v7zm4 0h-2V7h2v10zm4 0h-2v-4h2v4z\"/>\n",
              "    </g>\n",
              "</svg>\n",
              "  </button>\n",
              "\n",
              "<style>\n",
              "  .colab-df-quickchart {\n",
              "      --bg-color: #E8F0FE;\n",
              "      --fill-color: #1967D2;\n",
              "      --hover-bg-color: #E2EBFA;\n",
              "      --hover-fill-color: #174EA6;\n",
              "      --disabled-fill-color: #AAA;\n",
              "      --disabled-bg-color: #DDD;\n",
              "  }\n",
              "\n",
              "  [theme=dark] .colab-df-quickchart {\n",
              "      --bg-color: #3B4455;\n",
              "      --fill-color: #D2E3FC;\n",
              "      --hover-bg-color: #434B5C;\n",
              "      --hover-fill-color: #FFFFFF;\n",
              "      --disabled-bg-color: #3B4455;\n",
              "      --disabled-fill-color: #666;\n",
              "  }\n",
              "\n",
              "  .colab-df-quickchart {\n",
              "    background-color: var(--bg-color);\n",
              "    border: none;\n",
              "    border-radius: 50%;\n",
              "    cursor: pointer;\n",
              "    display: none;\n",
              "    fill: var(--fill-color);\n",
              "    height: 32px;\n",
              "    padding: 0;\n",
              "    width: 32px;\n",
              "  }\n",
              "\n",
              "  .colab-df-quickchart:hover {\n",
              "    background-color: var(--hover-bg-color);\n",
              "    box-shadow: 0 1px 2px rgba(60, 64, 67, 0.3), 0 1px 3px 1px rgba(60, 64, 67, 0.15);\n",
              "    fill: var(--button-hover-fill-color);\n",
              "  }\n",
              "\n",
              "  .colab-df-quickchart-complete:disabled,\n",
              "  .colab-df-quickchart-complete:disabled:hover {\n",
              "    background-color: var(--disabled-bg-color);\n",
              "    fill: var(--disabled-fill-color);\n",
              "    box-shadow: none;\n",
              "  }\n",
              "\n",
              "  .colab-df-spinner {\n",
              "    border: 2px solid var(--fill-color);\n",
              "    border-color: transparent;\n",
              "    border-bottom-color: var(--fill-color);\n",
              "    animation:\n",
              "      spin 1s steps(1) infinite;\n",
              "  }\n",
              "\n",
              "  @keyframes spin {\n",
              "    0% {\n",
              "      border-color: transparent;\n",
              "      border-bottom-color: var(--fill-color);\n",
              "      border-left-color: var(--fill-color);\n",
              "    }\n",
              "    20% {\n",
              "      border-color: transparent;\n",
              "      border-left-color: var(--fill-color);\n",
              "      border-top-color: var(--fill-color);\n",
              "    }\n",
              "    30% {\n",
              "      border-color: transparent;\n",
              "      border-left-color: var(--fill-color);\n",
              "      border-top-color: var(--fill-color);\n",
              "      border-right-color: var(--fill-color);\n",
              "    }\n",
              "    40% {\n",
              "      border-color: transparent;\n",
              "      border-right-color: var(--fill-color);\n",
              "      border-top-color: var(--fill-color);\n",
              "    }\n",
              "    60% {\n",
              "      border-color: transparent;\n",
              "      border-right-color: var(--fill-color);\n",
              "    }\n",
              "    80% {\n",
              "      border-color: transparent;\n",
              "      border-right-color: var(--fill-color);\n",
              "      border-bottom-color: var(--fill-color);\n",
              "    }\n",
              "    90% {\n",
              "      border-color: transparent;\n",
              "      border-bottom-color: var(--fill-color);\n",
              "    }\n",
              "  }\n",
              "</style>\n",
              "\n",
              "  <script>\n",
              "    async function quickchart(key) {\n",
              "      const quickchartButtonEl =\n",
              "        document.querySelector('#' + key + ' button');\n",
              "      quickchartButtonEl.disabled = true;  // To prevent multiple clicks.\n",
              "      quickchartButtonEl.classList.add('colab-df-spinner');\n",
              "      try {\n",
              "        const charts = await google.colab.kernel.invokeFunction(\n",
              "            'suggestCharts', [key], {});\n",
              "      } catch (error) {\n",
              "        console.error('Error during call to suggestCharts:', error);\n",
              "      }\n",
              "      quickchartButtonEl.classList.remove('colab-df-spinner');\n",
              "      quickchartButtonEl.classList.add('colab-df-quickchart-complete');\n",
              "    }\n",
              "    (() => {\n",
              "      let quickchartButtonEl =\n",
              "        document.querySelector('#df-d2da1085-df7f-4e4f-bdb4-95ac3680ae7a button');\n",
              "      quickchartButtonEl.style.display =\n",
              "        google.colab.kernel.accessAllowed ? 'block' : 'none';\n",
              "    })();\n",
              "  </script>\n",
              "</div>\n",
              "    </div>\n",
              "  </div>\n"
            ]
          },
          "metadata": {},
          "execution_count": 4
        }
      ]
    },
    {
      "cell_type": "code",
      "source": [
        "df.tail()"
      ],
      "metadata": {
        "colab": {
          "base_uri": "https://localhost:8080/",
          "height": 345
        },
        "id": "Y5VD_mad6pnc",
        "outputId": "b2a8eb12-ec31-4513-8dbd-4872d1087a6c"
      },
      "execution_count": 5,
      "outputs": [
        {
          "output_type": "execute_result",
          "data": {
            "text/plain": [
              "                          Name_of_movie Year_of_release  Watchtime  \\\n",
              "995  The Taking of Pelham One Two Three           1974         104   \n",
              "996                             Control           2007         122   \n",
              "997              A Very Long Engagement           2004         133   \n",
              "998                               Shine           1996         105   \n",
              "999                            Cell 211           2009         113   \n",
              "\n",
              "     Movie_Rating Metascore   Votes  Grosses  \\\n",
              "995           7.6        68  33,842   $2.49M   \n",
              "996           7.6        78  67,709   $0.87M   \n",
              "997           7.6        76  75,297   $6.17M   \n",
              "998           7.6        87  55,905  $35.81M   \n",
              "999           7.6            69,845            \n",
              "\n",
              "                                           Description            Director  \\\n",
              "995  Four armed men hijack a New York City subway c...      Joseph Sargent   \n",
              "996  A profile of Ian Curtis, the enigmatic singer ...       Anton Corbijn   \n",
              "997  Tells the story of a young woman's relentless ...  Jean-Pierre Jeunet   \n",
              "998  Pianist David Helfgott, driven by his father a...         Scott Hicks   \n",
              "999  The story of two men on different sides of a p...       Daniel Monzón   \n",
              "\n",
              "                                                 Stars  \\\n",
              "995  ['Walter Matthau', 'Robert Shaw', 'Martin Bals...   \n",
              "996  ['Sam Riley', 'Samantha Morton', 'Craig Parkin...   \n",
              "997  ['Audrey Tautou', 'Gaspard Ulliel', 'Jodie Fos...   \n",
              "998  ['Geoffrey Rush', 'Armin Mueller-Stahl', 'Just...   \n",
              "999  ['Luis Tosar', 'Alberto Ammann', 'Antonio Resi...   \n",
              "\n",
              "                                    Genres  \n",
              "995  \\nAction, Crime, Thriller              \n",
              "996  \\nBiography, Drama, Music              \n",
              "997  \\nDrama, Mystery, Romance              \n",
              "998  \\nBiography, Drama, Music              \n",
              "999     \\nAction, Crime, Drama              "
            ],
            "text/html": [
              "\n",
              "  <div id=\"df-72ef7617-7eff-4880-8379-3e8f9eb67fc9\" class=\"colab-df-container\">\n",
              "    <div>\n",
              "<style scoped>\n",
              "    .dataframe tbody tr th:only-of-type {\n",
              "        vertical-align: middle;\n",
              "    }\n",
              "\n",
              "    .dataframe tbody tr th {\n",
              "        vertical-align: top;\n",
              "    }\n",
              "\n",
              "    .dataframe thead th {\n",
              "        text-align: right;\n",
              "    }\n",
              "</style>\n",
              "<table border=\"1\" class=\"dataframe\">\n",
              "  <thead>\n",
              "    <tr style=\"text-align: right;\">\n",
              "      <th></th>\n",
              "      <th>Name_of_movie</th>\n",
              "      <th>Year_of_release</th>\n",
              "      <th>Watchtime</th>\n",
              "      <th>Movie_Rating</th>\n",
              "      <th>Metascore</th>\n",
              "      <th>Votes</th>\n",
              "      <th>Grosses</th>\n",
              "      <th>Description</th>\n",
              "      <th>Director</th>\n",
              "      <th>Stars</th>\n",
              "      <th>Genres</th>\n",
              "    </tr>\n",
              "  </thead>\n",
              "  <tbody>\n",
              "    <tr>\n",
              "      <th>995</th>\n",
              "      <td>The Taking of Pelham One Two Three</td>\n",
              "      <td>1974</td>\n",
              "      <td>104</td>\n",
              "      <td>7.6</td>\n",
              "      <td>68</td>\n",
              "      <td>33,842</td>\n",
              "      <td>$2.49M</td>\n",
              "      <td>Four armed men hijack a New York City subway c...</td>\n",
              "      <td>Joseph Sargent</td>\n",
              "      <td>['Walter Matthau', 'Robert Shaw', 'Martin Bals...</td>\n",
              "      <td>\\nAction, Crime, Thriller</td>\n",
              "    </tr>\n",
              "    <tr>\n",
              "      <th>996</th>\n",
              "      <td>Control</td>\n",
              "      <td>2007</td>\n",
              "      <td>122</td>\n",
              "      <td>7.6</td>\n",
              "      <td>78</td>\n",
              "      <td>67,709</td>\n",
              "      <td>$0.87M</td>\n",
              "      <td>A profile of Ian Curtis, the enigmatic singer ...</td>\n",
              "      <td>Anton Corbijn</td>\n",
              "      <td>['Sam Riley', 'Samantha Morton', 'Craig Parkin...</td>\n",
              "      <td>\\nBiography, Drama, Music</td>\n",
              "    </tr>\n",
              "    <tr>\n",
              "      <th>997</th>\n",
              "      <td>A Very Long Engagement</td>\n",
              "      <td>2004</td>\n",
              "      <td>133</td>\n",
              "      <td>7.6</td>\n",
              "      <td>76</td>\n",
              "      <td>75,297</td>\n",
              "      <td>$6.17M</td>\n",
              "      <td>Tells the story of a young woman's relentless ...</td>\n",
              "      <td>Jean-Pierre Jeunet</td>\n",
              "      <td>['Audrey Tautou', 'Gaspard Ulliel', 'Jodie Fos...</td>\n",
              "      <td>\\nDrama, Mystery, Romance</td>\n",
              "    </tr>\n",
              "    <tr>\n",
              "      <th>998</th>\n",
              "      <td>Shine</td>\n",
              "      <td>1996</td>\n",
              "      <td>105</td>\n",
              "      <td>7.6</td>\n",
              "      <td>87</td>\n",
              "      <td>55,905</td>\n",
              "      <td>$35.81M</td>\n",
              "      <td>Pianist David Helfgott, driven by his father a...</td>\n",
              "      <td>Scott Hicks</td>\n",
              "      <td>['Geoffrey Rush', 'Armin Mueller-Stahl', 'Just...</td>\n",
              "      <td>\\nBiography, Drama, Music</td>\n",
              "    </tr>\n",
              "    <tr>\n",
              "      <th>999</th>\n",
              "      <td>Cell 211</td>\n",
              "      <td>2009</td>\n",
              "      <td>113</td>\n",
              "      <td>7.6</td>\n",
              "      <td></td>\n",
              "      <td>69,845</td>\n",
              "      <td></td>\n",
              "      <td>The story of two men on different sides of a p...</td>\n",
              "      <td>Daniel Monzón</td>\n",
              "      <td>['Luis Tosar', 'Alberto Ammann', 'Antonio Resi...</td>\n",
              "      <td>\\nAction, Crime, Drama</td>\n",
              "    </tr>\n",
              "  </tbody>\n",
              "</table>\n",
              "</div>\n",
              "    <div class=\"colab-df-buttons\">\n",
              "\n",
              "  <div class=\"colab-df-container\">\n",
              "    <button class=\"colab-df-convert\" onclick=\"convertToInteractive('df-72ef7617-7eff-4880-8379-3e8f9eb67fc9')\"\n",
              "            title=\"Convert this dataframe to an interactive table.\"\n",
              "            style=\"display:none;\">\n",
              "\n",
              "  <svg xmlns=\"http://www.w3.org/2000/svg\" height=\"24px\" viewBox=\"0 -960 960 960\">\n",
              "    <path d=\"M120-120v-720h720v720H120Zm60-500h600v-160H180v160Zm220 220h160v-160H400v160Zm0 220h160v-160H400v160ZM180-400h160v-160H180v160Zm440 0h160v-160H620v160ZM180-180h160v-160H180v160Zm440 0h160v-160H620v160Z\"/>\n",
              "  </svg>\n",
              "    </button>\n",
              "\n",
              "  <style>\n",
              "    .colab-df-container {\n",
              "      display:flex;\n",
              "      gap: 12px;\n",
              "    }\n",
              "\n",
              "    .colab-df-convert {\n",
              "      background-color: #E8F0FE;\n",
              "      border: none;\n",
              "      border-radius: 50%;\n",
              "      cursor: pointer;\n",
              "      display: none;\n",
              "      fill: #1967D2;\n",
              "      height: 32px;\n",
              "      padding: 0 0 0 0;\n",
              "      width: 32px;\n",
              "    }\n",
              "\n",
              "    .colab-df-convert:hover {\n",
              "      background-color: #E2EBFA;\n",
              "      box-shadow: 0px 1px 2px rgba(60, 64, 67, 0.3), 0px 1px 3px 1px rgba(60, 64, 67, 0.15);\n",
              "      fill: #174EA6;\n",
              "    }\n",
              "\n",
              "    .colab-df-buttons div {\n",
              "      margin-bottom: 4px;\n",
              "    }\n",
              "\n",
              "    [theme=dark] .colab-df-convert {\n",
              "      background-color: #3B4455;\n",
              "      fill: #D2E3FC;\n",
              "    }\n",
              "\n",
              "    [theme=dark] .colab-df-convert:hover {\n",
              "      background-color: #434B5C;\n",
              "      box-shadow: 0px 1px 3px 1px rgba(0, 0, 0, 0.15);\n",
              "      filter: drop-shadow(0px 1px 2px rgba(0, 0, 0, 0.3));\n",
              "      fill: #FFFFFF;\n",
              "    }\n",
              "  </style>\n",
              "\n",
              "    <script>\n",
              "      const buttonEl =\n",
              "        document.querySelector('#df-72ef7617-7eff-4880-8379-3e8f9eb67fc9 button.colab-df-convert');\n",
              "      buttonEl.style.display =\n",
              "        google.colab.kernel.accessAllowed ? 'block' : 'none';\n",
              "\n",
              "      async function convertToInteractive(key) {\n",
              "        const element = document.querySelector('#df-72ef7617-7eff-4880-8379-3e8f9eb67fc9');\n",
              "        const dataTable =\n",
              "          await google.colab.kernel.invokeFunction('convertToInteractive',\n",
              "                                                    [key], {});\n",
              "        if (!dataTable) return;\n",
              "\n",
              "        const docLinkHtml = 'Like what you see? Visit the ' +\n",
              "          '<a target=\"_blank\" href=https://colab.research.google.com/notebooks/data_table.ipynb>data table notebook</a>'\n",
              "          + ' to learn more about interactive tables.';\n",
              "        element.innerHTML = '';\n",
              "        dataTable['output_type'] = 'display_data';\n",
              "        await google.colab.output.renderOutput(dataTable, element);\n",
              "        const docLink = document.createElement('div');\n",
              "        docLink.innerHTML = docLinkHtml;\n",
              "        element.appendChild(docLink);\n",
              "      }\n",
              "    </script>\n",
              "  </div>\n",
              "\n",
              "\n",
              "<div id=\"df-f1f3bc68-e517-4408-a89e-761d753c52bf\">\n",
              "  <button class=\"colab-df-quickchart\" onclick=\"quickchart('df-f1f3bc68-e517-4408-a89e-761d753c52bf')\"\n",
              "            title=\"Suggest charts.\"\n",
              "            style=\"display:none;\">\n",
              "\n",
              "<svg xmlns=\"http://www.w3.org/2000/svg\" height=\"24px\"viewBox=\"0 0 24 24\"\n",
              "     width=\"24px\">\n",
              "    <g>\n",
              "        <path d=\"M19 3H5c-1.1 0-2 .9-2 2v14c0 1.1.9 2 2 2h14c1.1 0 2-.9 2-2V5c0-1.1-.9-2-2-2zM9 17H7v-7h2v7zm4 0h-2V7h2v10zm4 0h-2v-4h2v4z\"/>\n",
              "    </g>\n",
              "</svg>\n",
              "  </button>\n",
              "\n",
              "<style>\n",
              "  .colab-df-quickchart {\n",
              "      --bg-color: #E8F0FE;\n",
              "      --fill-color: #1967D2;\n",
              "      --hover-bg-color: #E2EBFA;\n",
              "      --hover-fill-color: #174EA6;\n",
              "      --disabled-fill-color: #AAA;\n",
              "      --disabled-bg-color: #DDD;\n",
              "  }\n",
              "\n",
              "  [theme=dark] .colab-df-quickchart {\n",
              "      --bg-color: #3B4455;\n",
              "      --fill-color: #D2E3FC;\n",
              "      --hover-bg-color: #434B5C;\n",
              "      --hover-fill-color: #FFFFFF;\n",
              "      --disabled-bg-color: #3B4455;\n",
              "      --disabled-fill-color: #666;\n",
              "  }\n",
              "\n",
              "  .colab-df-quickchart {\n",
              "    background-color: var(--bg-color);\n",
              "    border: none;\n",
              "    border-radius: 50%;\n",
              "    cursor: pointer;\n",
              "    display: none;\n",
              "    fill: var(--fill-color);\n",
              "    height: 32px;\n",
              "    padding: 0;\n",
              "    width: 32px;\n",
              "  }\n",
              "\n",
              "  .colab-df-quickchart:hover {\n",
              "    background-color: var(--hover-bg-color);\n",
              "    box-shadow: 0 1px 2px rgba(60, 64, 67, 0.3), 0 1px 3px 1px rgba(60, 64, 67, 0.15);\n",
              "    fill: var(--button-hover-fill-color);\n",
              "  }\n",
              "\n",
              "  .colab-df-quickchart-complete:disabled,\n",
              "  .colab-df-quickchart-complete:disabled:hover {\n",
              "    background-color: var(--disabled-bg-color);\n",
              "    fill: var(--disabled-fill-color);\n",
              "    box-shadow: none;\n",
              "  }\n",
              "\n",
              "  .colab-df-spinner {\n",
              "    border: 2px solid var(--fill-color);\n",
              "    border-color: transparent;\n",
              "    border-bottom-color: var(--fill-color);\n",
              "    animation:\n",
              "      spin 1s steps(1) infinite;\n",
              "  }\n",
              "\n",
              "  @keyframes spin {\n",
              "    0% {\n",
              "      border-color: transparent;\n",
              "      border-bottom-color: var(--fill-color);\n",
              "      border-left-color: var(--fill-color);\n",
              "    }\n",
              "    20% {\n",
              "      border-color: transparent;\n",
              "      border-left-color: var(--fill-color);\n",
              "      border-top-color: var(--fill-color);\n",
              "    }\n",
              "    30% {\n",
              "      border-color: transparent;\n",
              "      border-left-color: var(--fill-color);\n",
              "      border-top-color: var(--fill-color);\n",
              "      border-right-color: var(--fill-color);\n",
              "    }\n",
              "    40% {\n",
              "      border-color: transparent;\n",
              "      border-right-color: var(--fill-color);\n",
              "      border-top-color: var(--fill-color);\n",
              "    }\n",
              "    60% {\n",
              "      border-color: transparent;\n",
              "      border-right-color: var(--fill-color);\n",
              "    }\n",
              "    80% {\n",
              "      border-color: transparent;\n",
              "      border-right-color: var(--fill-color);\n",
              "      border-bottom-color: var(--fill-color);\n",
              "    }\n",
              "    90% {\n",
              "      border-color: transparent;\n",
              "      border-bottom-color: var(--fill-color);\n",
              "    }\n",
              "  }\n",
              "</style>\n",
              "\n",
              "  <script>\n",
              "    async function quickchart(key) {\n",
              "      const quickchartButtonEl =\n",
              "        document.querySelector('#' + key + ' button');\n",
              "      quickchartButtonEl.disabled = true;  // To prevent multiple clicks.\n",
              "      quickchartButtonEl.classList.add('colab-df-spinner');\n",
              "      try {\n",
              "        const charts = await google.colab.kernel.invokeFunction(\n",
              "            'suggestCharts', [key], {});\n",
              "      } catch (error) {\n",
              "        console.error('Error during call to suggestCharts:', error);\n",
              "      }\n",
              "      quickchartButtonEl.classList.remove('colab-df-spinner');\n",
              "      quickchartButtonEl.classList.add('colab-df-quickchart-complete');\n",
              "    }\n",
              "    (() => {\n",
              "      let quickchartButtonEl =\n",
              "        document.querySelector('#df-f1f3bc68-e517-4408-a89e-761d753c52bf button');\n",
              "      quickchartButtonEl.style.display =\n",
              "        google.colab.kernel.accessAllowed ? 'block' : 'none';\n",
              "    })();\n",
              "  </script>\n",
              "</div>\n",
              "    </div>\n",
              "  </div>\n"
            ]
          },
          "metadata": {},
          "execution_count": 5
        }
      ]
    },
    {
      "cell_type": "markdown",
      "source": [
        "\n",
        "Inspecting the dataframes\n"
      ],
      "metadata": {
        "id": "phaFI7Ni6zu2"
      }
    },
    {
      "cell_type": "code",
      "source": [
        "df.shape"
      ],
      "metadata": {
        "colab": {
          "base_uri": "https://localhost:8080/"
        },
        "id": "J_M_uE6b6tak",
        "outputId": "19bf8525-46ca-46c5-b221-7457384a8fe5"
      },
      "execution_count": 6,
      "outputs": [
        {
          "output_type": "execute_result",
          "data": {
            "text/plain": [
              "(1000, 11)"
            ]
          },
          "metadata": {},
          "execution_count": 6
        }
      ]
    },
    {
      "cell_type": "markdown",
      "source": [
        "Now as we can see in genre column at the beginning of each data there is '\\n' therefore we have to strip the column."
      ],
      "metadata": {
        "id": "KXa1NQ8F7L1Z"
      }
    },
    {
      "cell_type": "code",
      "source": [
        "df['Genres'] = df['Genres'].str.strip('\\n')"
      ],
      "metadata": {
        "id": "d3ayO2sj64oa"
      },
      "execution_count": 7,
      "outputs": []
    },
    {
      "cell_type": "code",
      "source": [
        "df.head()"
      ],
      "metadata": {
        "colab": {
          "base_uri": "https://localhost:8080/",
          "height": 362
        },
        "id": "33Tj2uFU8_EI",
        "outputId": "8f6bada6-c013-4d48-e710-d9275d598842"
      },
      "execution_count": 8,
      "outputs": [
        {
          "output_type": "execute_result",
          "data": {
            "text/plain": [
              "                                   Name_of_movie Year_of_release  Watchtime  \\\n",
              "0                       The Shawshank Redemption           1994         142   \n",
              "1                                  The Godfather           1972         175   \n",
              "2                                The Dark Knight           2008         152   \n",
              "3                               Schindler's List           1993         195   \n",
              "4  The Lord of the Rings: The Return of the King           2003         201   \n",
              "\n",
              "   Movie_Rating Metascore      Votes   Grosses  \\\n",
              "0           9.3        82  2,811,733   $28.34M   \n",
              "1           9.2       100  1,959,532  $134.97M   \n",
              "2           9.0        84  2,793,415  $534.86M   \n",
              "3           9.0        95  1,413,454   $96.90M   \n",
              "4           9.0        94  1,925,087  $377.85M   \n",
              "\n",
              "                                         Description              Director  \\\n",
              "0  Over the course of several years, two convicts...        Frank Darabont   \n",
              "1  Don Vito Corleone, head of a mafia family, dec...  Francis Ford Coppola   \n",
              "2  When the menace known as the Joker wreaks havo...     Christopher Nolan   \n",
              "3  In German-occupied Poland during World War II,...      Steven Spielberg   \n",
              "4  Gandalf and Aragorn lead the World of Men agai...         Peter Jackson   \n",
              "\n",
              "                                               Stars  \\\n",
              "0  ['Tim Robbins', 'Morgan Freeman', 'Bob Gunton'...   \n",
              "1  ['Marlon Brando', 'Al Pacino', 'James Caan', '...   \n",
              "2  ['Christian Bale', 'Heath Ledger', 'Aaron Eckh...   \n",
              "3  ['Liam Neeson', 'Ralph Fiennes', 'Ben Kingsley...   \n",
              "4  ['Elijah Wood', 'Viggo Mortensen', 'Ian McKell...   \n",
              "\n",
              "                                  Genres  \n",
              "0                      Drama              \n",
              "1               Crime, Drama              \n",
              "2       Action, Crime, Drama              \n",
              "3  Biography, Drama, History              \n",
              "4   Action, Adventure, Drama              "
            ],
            "text/html": [
              "\n",
              "  <div id=\"df-4f4b2b3d-29d6-4d1f-8116-97039ba12cd7\" class=\"colab-df-container\">\n",
              "    <div>\n",
              "<style scoped>\n",
              "    .dataframe tbody tr th:only-of-type {\n",
              "        vertical-align: middle;\n",
              "    }\n",
              "\n",
              "    .dataframe tbody tr th {\n",
              "        vertical-align: top;\n",
              "    }\n",
              "\n",
              "    .dataframe thead th {\n",
              "        text-align: right;\n",
              "    }\n",
              "</style>\n",
              "<table border=\"1\" class=\"dataframe\">\n",
              "  <thead>\n",
              "    <tr style=\"text-align: right;\">\n",
              "      <th></th>\n",
              "      <th>Name_of_movie</th>\n",
              "      <th>Year_of_release</th>\n",
              "      <th>Watchtime</th>\n",
              "      <th>Movie_Rating</th>\n",
              "      <th>Metascore</th>\n",
              "      <th>Votes</th>\n",
              "      <th>Grosses</th>\n",
              "      <th>Description</th>\n",
              "      <th>Director</th>\n",
              "      <th>Stars</th>\n",
              "      <th>Genres</th>\n",
              "    </tr>\n",
              "  </thead>\n",
              "  <tbody>\n",
              "    <tr>\n",
              "      <th>0</th>\n",
              "      <td>The Shawshank Redemption</td>\n",
              "      <td>1994</td>\n",
              "      <td>142</td>\n",
              "      <td>9.3</td>\n",
              "      <td>82</td>\n",
              "      <td>2,811,733</td>\n",
              "      <td>$28.34M</td>\n",
              "      <td>Over the course of several years, two convicts...</td>\n",
              "      <td>Frank Darabont</td>\n",
              "      <td>['Tim Robbins', 'Morgan Freeman', 'Bob Gunton'...</td>\n",
              "      <td>Drama</td>\n",
              "    </tr>\n",
              "    <tr>\n",
              "      <th>1</th>\n",
              "      <td>The Godfather</td>\n",
              "      <td>1972</td>\n",
              "      <td>175</td>\n",
              "      <td>9.2</td>\n",
              "      <td>100</td>\n",
              "      <td>1,959,532</td>\n",
              "      <td>$134.97M</td>\n",
              "      <td>Don Vito Corleone, head of a mafia family, dec...</td>\n",
              "      <td>Francis Ford Coppola</td>\n",
              "      <td>['Marlon Brando', 'Al Pacino', 'James Caan', '...</td>\n",
              "      <td>Crime, Drama</td>\n",
              "    </tr>\n",
              "    <tr>\n",
              "      <th>2</th>\n",
              "      <td>The Dark Knight</td>\n",
              "      <td>2008</td>\n",
              "      <td>152</td>\n",
              "      <td>9.0</td>\n",
              "      <td>84</td>\n",
              "      <td>2,793,415</td>\n",
              "      <td>$534.86M</td>\n",
              "      <td>When the menace known as the Joker wreaks havo...</td>\n",
              "      <td>Christopher Nolan</td>\n",
              "      <td>['Christian Bale', 'Heath Ledger', 'Aaron Eckh...</td>\n",
              "      <td>Action, Crime, Drama</td>\n",
              "    </tr>\n",
              "    <tr>\n",
              "      <th>3</th>\n",
              "      <td>Schindler's List</td>\n",
              "      <td>1993</td>\n",
              "      <td>195</td>\n",
              "      <td>9.0</td>\n",
              "      <td>95</td>\n",
              "      <td>1,413,454</td>\n",
              "      <td>$96.90M</td>\n",
              "      <td>In German-occupied Poland during World War II,...</td>\n",
              "      <td>Steven Spielberg</td>\n",
              "      <td>['Liam Neeson', 'Ralph Fiennes', 'Ben Kingsley...</td>\n",
              "      <td>Biography, Drama, History</td>\n",
              "    </tr>\n",
              "    <tr>\n",
              "      <th>4</th>\n",
              "      <td>The Lord of the Rings: The Return of the King</td>\n",
              "      <td>2003</td>\n",
              "      <td>201</td>\n",
              "      <td>9.0</td>\n",
              "      <td>94</td>\n",
              "      <td>1,925,087</td>\n",
              "      <td>$377.85M</td>\n",
              "      <td>Gandalf and Aragorn lead the World of Men agai...</td>\n",
              "      <td>Peter Jackson</td>\n",
              "      <td>['Elijah Wood', 'Viggo Mortensen', 'Ian McKell...</td>\n",
              "      <td>Action, Adventure, Drama</td>\n",
              "    </tr>\n",
              "  </tbody>\n",
              "</table>\n",
              "</div>\n",
              "    <div class=\"colab-df-buttons\">\n",
              "\n",
              "  <div class=\"colab-df-container\">\n",
              "    <button class=\"colab-df-convert\" onclick=\"convertToInteractive('df-4f4b2b3d-29d6-4d1f-8116-97039ba12cd7')\"\n",
              "            title=\"Convert this dataframe to an interactive table.\"\n",
              "            style=\"display:none;\">\n",
              "\n",
              "  <svg xmlns=\"http://www.w3.org/2000/svg\" height=\"24px\" viewBox=\"0 -960 960 960\">\n",
              "    <path d=\"M120-120v-720h720v720H120Zm60-500h600v-160H180v160Zm220 220h160v-160H400v160Zm0 220h160v-160H400v160ZM180-400h160v-160H180v160Zm440 0h160v-160H620v160ZM180-180h160v-160H180v160Zm440 0h160v-160H620v160Z\"/>\n",
              "  </svg>\n",
              "    </button>\n",
              "\n",
              "  <style>\n",
              "    .colab-df-container {\n",
              "      display:flex;\n",
              "      gap: 12px;\n",
              "    }\n",
              "\n",
              "    .colab-df-convert {\n",
              "      background-color: #E8F0FE;\n",
              "      border: none;\n",
              "      border-radius: 50%;\n",
              "      cursor: pointer;\n",
              "      display: none;\n",
              "      fill: #1967D2;\n",
              "      height: 32px;\n",
              "      padding: 0 0 0 0;\n",
              "      width: 32px;\n",
              "    }\n",
              "\n",
              "    .colab-df-convert:hover {\n",
              "      background-color: #E2EBFA;\n",
              "      box-shadow: 0px 1px 2px rgba(60, 64, 67, 0.3), 0px 1px 3px 1px rgba(60, 64, 67, 0.15);\n",
              "      fill: #174EA6;\n",
              "    }\n",
              "\n",
              "    .colab-df-buttons div {\n",
              "      margin-bottom: 4px;\n",
              "    }\n",
              "\n",
              "    [theme=dark] .colab-df-convert {\n",
              "      background-color: #3B4455;\n",
              "      fill: #D2E3FC;\n",
              "    }\n",
              "\n",
              "    [theme=dark] .colab-df-convert:hover {\n",
              "      background-color: #434B5C;\n",
              "      box-shadow: 0px 1px 3px 1px rgba(0, 0, 0, 0.15);\n",
              "      filter: drop-shadow(0px 1px 2px rgba(0, 0, 0, 0.3));\n",
              "      fill: #FFFFFF;\n",
              "    }\n",
              "  </style>\n",
              "\n",
              "    <script>\n",
              "      const buttonEl =\n",
              "        document.querySelector('#df-4f4b2b3d-29d6-4d1f-8116-97039ba12cd7 button.colab-df-convert');\n",
              "      buttonEl.style.display =\n",
              "        google.colab.kernel.accessAllowed ? 'block' : 'none';\n",
              "\n",
              "      async function convertToInteractive(key) {\n",
              "        const element = document.querySelector('#df-4f4b2b3d-29d6-4d1f-8116-97039ba12cd7');\n",
              "        const dataTable =\n",
              "          await google.colab.kernel.invokeFunction('convertToInteractive',\n",
              "                                                    [key], {});\n",
              "        if (!dataTable) return;\n",
              "\n",
              "        const docLinkHtml = 'Like what you see? Visit the ' +\n",
              "          '<a target=\"_blank\" href=https://colab.research.google.com/notebooks/data_table.ipynb>data table notebook</a>'\n",
              "          + ' to learn more about interactive tables.';\n",
              "        element.innerHTML = '';\n",
              "        dataTable['output_type'] = 'display_data';\n",
              "        await google.colab.output.renderOutput(dataTable, element);\n",
              "        const docLink = document.createElement('div');\n",
              "        docLink.innerHTML = docLinkHtml;\n",
              "        element.appendChild(docLink);\n",
              "      }\n",
              "    </script>\n",
              "  </div>\n",
              "\n",
              "\n",
              "<div id=\"df-8945c063-7988-4882-a2c1-622feac38ecf\">\n",
              "  <button class=\"colab-df-quickchart\" onclick=\"quickchart('df-8945c063-7988-4882-a2c1-622feac38ecf')\"\n",
              "            title=\"Suggest charts.\"\n",
              "            style=\"display:none;\">\n",
              "\n",
              "<svg xmlns=\"http://www.w3.org/2000/svg\" height=\"24px\"viewBox=\"0 0 24 24\"\n",
              "     width=\"24px\">\n",
              "    <g>\n",
              "        <path d=\"M19 3H5c-1.1 0-2 .9-2 2v14c0 1.1.9 2 2 2h14c1.1 0 2-.9 2-2V5c0-1.1-.9-2-2-2zM9 17H7v-7h2v7zm4 0h-2V7h2v10zm4 0h-2v-4h2v4z\"/>\n",
              "    </g>\n",
              "</svg>\n",
              "  </button>\n",
              "\n",
              "<style>\n",
              "  .colab-df-quickchart {\n",
              "      --bg-color: #E8F0FE;\n",
              "      --fill-color: #1967D2;\n",
              "      --hover-bg-color: #E2EBFA;\n",
              "      --hover-fill-color: #174EA6;\n",
              "      --disabled-fill-color: #AAA;\n",
              "      --disabled-bg-color: #DDD;\n",
              "  }\n",
              "\n",
              "  [theme=dark] .colab-df-quickchart {\n",
              "      --bg-color: #3B4455;\n",
              "      --fill-color: #D2E3FC;\n",
              "      --hover-bg-color: #434B5C;\n",
              "      --hover-fill-color: #FFFFFF;\n",
              "      --disabled-bg-color: #3B4455;\n",
              "      --disabled-fill-color: #666;\n",
              "  }\n",
              "\n",
              "  .colab-df-quickchart {\n",
              "    background-color: var(--bg-color);\n",
              "    border: none;\n",
              "    border-radius: 50%;\n",
              "    cursor: pointer;\n",
              "    display: none;\n",
              "    fill: var(--fill-color);\n",
              "    height: 32px;\n",
              "    padding: 0;\n",
              "    width: 32px;\n",
              "  }\n",
              "\n",
              "  .colab-df-quickchart:hover {\n",
              "    background-color: var(--hover-bg-color);\n",
              "    box-shadow: 0 1px 2px rgba(60, 64, 67, 0.3), 0 1px 3px 1px rgba(60, 64, 67, 0.15);\n",
              "    fill: var(--button-hover-fill-color);\n",
              "  }\n",
              "\n",
              "  .colab-df-quickchart-complete:disabled,\n",
              "  .colab-df-quickchart-complete:disabled:hover {\n",
              "    background-color: var(--disabled-bg-color);\n",
              "    fill: var(--disabled-fill-color);\n",
              "    box-shadow: none;\n",
              "  }\n",
              "\n",
              "  .colab-df-spinner {\n",
              "    border: 2px solid var(--fill-color);\n",
              "    border-color: transparent;\n",
              "    border-bottom-color: var(--fill-color);\n",
              "    animation:\n",
              "      spin 1s steps(1) infinite;\n",
              "  }\n",
              "\n",
              "  @keyframes spin {\n",
              "    0% {\n",
              "      border-color: transparent;\n",
              "      border-bottom-color: var(--fill-color);\n",
              "      border-left-color: var(--fill-color);\n",
              "    }\n",
              "    20% {\n",
              "      border-color: transparent;\n",
              "      border-left-color: var(--fill-color);\n",
              "      border-top-color: var(--fill-color);\n",
              "    }\n",
              "    30% {\n",
              "      border-color: transparent;\n",
              "      border-left-color: var(--fill-color);\n",
              "      border-top-color: var(--fill-color);\n",
              "      border-right-color: var(--fill-color);\n",
              "    }\n",
              "    40% {\n",
              "      border-color: transparent;\n",
              "      border-right-color: var(--fill-color);\n",
              "      border-top-color: var(--fill-color);\n",
              "    }\n",
              "    60% {\n",
              "      border-color: transparent;\n",
              "      border-right-color: var(--fill-color);\n",
              "    }\n",
              "    80% {\n",
              "      border-color: transparent;\n",
              "      border-right-color: var(--fill-color);\n",
              "      border-bottom-color: var(--fill-color);\n",
              "    }\n",
              "    90% {\n",
              "      border-color: transparent;\n",
              "      border-bottom-color: var(--fill-color);\n",
              "    }\n",
              "  }\n",
              "</style>\n",
              "\n",
              "  <script>\n",
              "    async function quickchart(key) {\n",
              "      const quickchartButtonEl =\n",
              "        document.querySelector('#' + key + ' button');\n",
              "      quickchartButtonEl.disabled = true;  // To prevent multiple clicks.\n",
              "      quickchartButtonEl.classList.add('colab-df-spinner');\n",
              "      try {\n",
              "        const charts = await google.colab.kernel.invokeFunction(\n",
              "            'suggestCharts', [key], {});\n",
              "      } catch (error) {\n",
              "        console.error('Error during call to suggestCharts:', error);\n",
              "      }\n",
              "      quickchartButtonEl.classList.remove('colab-df-spinner');\n",
              "      quickchartButtonEl.classList.add('colab-df-quickchart-complete');\n",
              "    }\n",
              "    (() => {\n",
              "      let quickchartButtonEl =\n",
              "        document.querySelector('#df-8945c063-7988-4882-a2c1-622feac38ecf button');\n",
              "      quickchartButtonEl.style.display =\n",
              "        google.colab.kernel.accessAllowed ? 'block' : 'none';\n",
              "    })();\n",
              "  </script>\n",
              "</div>\n",
              "    </div>\n",
              "  </div>\n"
            ]
          },
          "metadata": {},
          "execution_count": 8
        }
      ]
    },
    {
      "cell_type": "markdown",
      "source": [
        "In order to know more details about our dataset we performed .info()"
      ],
      "metadata": {
        "id": "kCuAsc9P8O-P"
      }
    },
    {
      "cell_type": "code",
      "source": [
        "df.info() # from this we can know about our datatype of columns as well as the memory usage"
      ],
      "metadata": {
        "colab": {
          "base_uri": "https://localhost:8080/"
        },
        "id": "AF0Lrh5u791v",
        "outputId": "ae2a0e5c-fc66-4c7e-b71c-95b46df60bf2"
      },
      "execution_count": 9,
      "outputs": [
        {
          "output_type": "stream",
          "name": "stdout",
          "text": [
            "<class 'pandas.core.frame.DataFrame'>\n",
            "RangeIndex: 1000 entries, 0 to 999\n",
            "Data columns (total 11 columns):\n",
            " #   Column           Non-Null Count  Dtype  \n",
            "---  ------           --------------  -----  \n",
            " 0   Name_of_movie    1000 non-null   object \n",
            " 1   Year_of_release  1000 non-null   object \n",
            " 2   Watchtime        1000 non-null   int64  \n",
            " 3   Movie_Rating     1000 non-null   float64\n",
            " 4   Metascore        1000 non-null   object \n",
            " 5   Votes            1000 non-null   object \n",
            " 6   Grosses          1000 non-null   object \n",
            " 7   Description      1000 non-null   object \n",
            " 8   Director         1000 non-null   object \n",
            " 9   Stars            1000 non-null   object \n",
            " 10  Genres           1000 non-null   object \n",
            "dtypes: float64(1), int64(1), object(9)\n",
            "memory usage: 86.1+ KB\n"
          ]
        }
      ]
    },
    {
      "cell_type": "markdown",
      "source": [
        "Here we can see that are no null values  but in this dataset there are some columns like year_of_release , Metascore , Votes , Grosses which were extracted as object datatype during scrapping due to which empty strings('') was considered as data so there we no null Values . So we need to convert the required columns to their respective datatype."
      ],
      "metadata": {
        "id": "fPsOLPtJuJi_"
      }
    },
    {
      "cell_type": "markdown",
      "source": [
        "---\n",
        "# **DATA CLEANING AND MANIPULATION**\n",
        "\n",
        "---"
      ],
      "metadata": {
        "id": "mrbcbzID9Mxe"
      }
    },
    {
      "cell_type": "markdown",
      "source": [
        "Now we have to convert numerical attributes like year_of_release , Metascore , Votes , Grosses to their specified datatype which were considered as object datatype."
      ],
      "metadata": {
        "id": "fLIt1aVveG3x"
      }
    },
    {
      "cell_type": "code",
      "source": [
        "import re\n",
        "\n",
        "# Clean and extract the numeric part from 'Year_of_release' using regular expressions\n",
        "df['Year_of_release'] = df['Year_of_release'].str.extract('(\\d+)').astype(float).astype('Int64')\n",
        "# This code will extract the numeric part and handle missing values with 'Int64' data type"
      ],
      "metadata": {
        "id": "Zc_DzgtReQQD"
      },
      "execution_count": 10,
      "outputs": []
    },
    {
      "cell_type": "code",
      "source": [
        "# Replace non-numeric and empty string values with NaN\n",
        "df['Metascore'] = pd.to_numeric(df['Metascore'], errors='coerce')\n",
        "\n",
        "# Convert the column to an integer data type, handling NaN values\n",
        "df['Metascore'] = df['Metascore'].astype(pd.Int64Dtype())\n"
      ],
      "metadata": {
        "id": "drAuItCRfUZN"
      },
      "execution_count": 11,
      "outputs": []
    },
    {
      "cell_type": "code",
      "source": [
        "# Clean the 'Votes' column by removing non-numeric characters and leading/trailing spaces\n",
        "df['Votes'] = df['Votes'].str.replace(r'[^0-9]', '', regex=True).str.strip()\n",
        "\n",
        "# Convert the cleaned column to integer\n",
        "df['Votes'] = df['Votes'].astype(int)"
      ],
      "metadata": {
        "id": "lpWBG4NBgF9K"
      },
      "execution_count": 12,
      "outputs": []
    },
    {
      "cell_type": "code",
      "source": [
        "# Remove non-numeric characters (e.g., currency symbols, commas, and other non-numeric characters) from the 'Grosses' column\n",
        "df['Grosses'] = df['Grosses'].str.replace(r'[^0-9.]', '', regex=True)\n",
        "\n",
        "# Replace empty strings with NaN\n",
        "df['Grosses'] = df['Grosses'].replace('', np.nan)\n",
        "\n",
        "# Convert the column to float to handle NaN values\n",
        "df['Grosses'] = df['Grosses'].astype(float)\n"
      ],
      "metadata": {
        "id": "8BHWhjLIgjYH"
      },
      "execution_count": 13,
      "outputs": []
    },
    {
      "cell_type": "markdown",
      "source": [
        "We again performed .info() to confirm that the datatypes have been changed succesfully"
      ],
      "metadata": {
        "id": "UYFZYnxQO1Ga"
      }
    },
    {
      "cell_type": "code",
      "source": [
        "df.info()\n"
      ],
      "metadata": {
        "colab": {
          "base_uri": "https://localhost:8080/"
        },
        "id": "6yWlfNOwhGFr",
        "outputId": "c55e9afe-de1e-48c5-aca0-eadc7a780d57"
      },
      "execution_count": 14,
      "outputs": [
        {
          "output_type": "stream",
          "name": "stdout",
          "text": [
            "<class 'pandas.core.frame.DataFrame'>\n",
            "RangeIndex: 1000 entries, 0 to 999\n",
            "Data columns (total 11 columns):\n",
            " #   Column           Non-Null Count  Dtype  \n",
            "---  ------           --------------  -----  \n",
            " 0   Name_of_movie    1000 non-null   object \n",
            " 1   Year_of_release  1000 non-null   Int64  \n",
            " 2   Watchtime        1000 non-null   int64  \n",
            " 3   Movie_Rating     1000 non-null   float64\n",
            " 4   Metascore        845 non-null    Int64  \n",
            " 5   Votes            1000 non-null   int64  \n",
            " 6   Grosses          833 non-null    float64\n",
            " 7   Description      1000 non-null   object \n",
            " 8   Director         1000 non-null   object \n",
            " 9   Stars            1000 non-null   object \n",
            " 10  Genres           1000 non-null   object \n",
            "dtypes: Int64(2), float64(2), int64(2), object(5)\n",
            "memory usage: 88.0+ KB\n"
          ]
        }
      ]
    },
    {
      "cell_type": "markdown",
      "source": [
        "After converting the required columns into int / float datatype we found some null values"
      ],
      "metadata": {
        "id": "2mxAnm5tu1Df"
      }
    },
    {
      "cell_type": "markdown",
      "source": [
        "**Checking for Null Values**"
      ],
      "metadata": {
        "id": "rUKsF3T39SCt"
      }
    },
    {
      "cell_type": "code",
      "source": [
        "df.isnull().sum()"
      ],
      "metadata": {
        "colab": {
          "base_uri": "https://localhost:8080/"
        },
        "id": "YTp49kM98mdb",
        "outputId": "40f7bc9f-9018-447d-a4a3-ec9c414b2567"
      },
      "execution_count": 15,
      "outputs": [
        {
          "output_type": "execute_result",
          "data": {
            "text/plain": [
              "Name_of_movie        0\n",
              "Year_of_release      0\n",
              "Watchtime            0\n",
              "Movie_Rating         0\n",
              "Metascore          155\n",
              "Votes                0\n",
              "Grosses            167\n",
              "Description          0\n",
              "Director             0\n",
              "Stars                0\n",
              "Genres               0\n",
              "dtype: int64"
            ]
          },
          "metadata": {},
          "execution_count": 15
        }
      ]
    },
    {
      "cell_type": "markdown",
      "source": [
        "It shows we have null values in Metascore as well as Grosses\n"
      ],
      "metadata": {
        "id": "qNCS-Dm49bgQ"
      }
    },
    {
      "cell_type": "code",
      "source": [
        "import missingno as mn\n",
        "mn.matrix(df)"
      ],
      "metadata": {
        "colab": {
          "base_uri": "https://localhost:8080/",
          "height": 690
        },
        "id": "R0hN1Akw9YJN",
        "outputId": "7ad08d51-3160-4ad1-8030-00dd9403ad0b"
      },
      "execution_count": 16,
      "outputs": [
        {
          "output_type": "execute_result",
          "data": {
            "text/plain": [
              "<Axes: >"
            ]
          },
          "metadata": {},
          "execution_count": 16
        },
        {
          "output_type": "display_data",
          "data": {
            "text/plain": [
              "<Figure size 2500x1000 with 2 Axes>"
            ],
            "image/png": "[encoded data removed]"
          },
          "metadata": {}
        }
      ]
    },
    {
      "cell_type": "markdown",
      "source": [
        "Matrix plot also shows that there are missing values , distributed accross the metascore and grosses column"
      ],
      "metadata": {
        "id": "nD8LiuE398y0"
      }
    },
    {
      "cell_type": "markdown",
      "source": [
        "**Removing Missing Values**"
      ],
      "metadata": {
        "id": "gQEklhn_hnec"
      }
    },
    {
      "cell_type": "markdown",
      "source": [
        "We are going to fill the values of both 'Grosses' and 'Metascore' respectively. So lets decide the imputation technique whether we should use mean / median."
      ],
      "metadata": {
        "id": "cLcjoikPjzhT"
      }
    },
    {
      "cell_type": "code",
      "source": [
        "# Remove rows with missing 'Grosses' values\n",
        "df_cleaned_grosses = df.dropna(subset=['Grosses'])\n",
        "\n",
        "plt.figure(figsize=(8, 6))\n",
        "plt.boxplot(df_cleaned_grosses['Grosses'])\n",
        "plt.title('Box Plot of Grosses')\n",
        "plt.ylabel('Grosses')\n",
        "plt.ylim(0,1000)\n",
        "plt.show()"
      ],
      "metadata": {
        "colab": {
          "base_uri": "https://localhost:8080/",
          "height": 545
        },
        "id": "HsrIOtBR1zXc",
        "outputId": "36d38270-40b9-4367-9337-efd5bf627dc6"
      },
      "execution_count": 17,
      "outputs": [
        {
          "output_type": "display_data",
          "data": {
            "text/plain": [
              "<Figure size 800x600 with 1 Axes>"
            ],
            "image/png": "[encoded data removed]"
          },
          "metadata": {}
        }
      ]
    },
    {
      "cell_type": "markdown",
      "source": [
        "As the outliers present in grosses are spiking the mean so we are going to use median as an imputation as it is robust and does not get affected by Outliers"
      ],
      "metadata": {
        "id": "4YXK0Cp3k0cg"
      }
    },
    {
      "cell_type": "code",
      "source": [
        "\n",
        "# Remove rows with missing 'Metascore' values\n",
        "df_cleaned = df.dropna(subset=['Metascore'])\n",
        "\n",
        "plt.figure(figsize=(8, 6))\n",
        "plt.boxplot(df_cleaned['Metascore'])\n",
        "plt.title('Box Plot of Metascore')\n",
        "plt.ylabel('Metascore')\n",
        "plt.show()"
      ],
      "metadata": {
        "colab": {
          "base_uri": "https://localhost:8080/",
          "height": 545
        },
        "id": "SMm1wP-b1s_I",
        "outputId": "e5a863d2-87e9-4f9d-f6ad-0973d668fb37"
      },
      "execution_count": 18,
      "outputs": [
        {
          "output_type": "display_data",
          "data": {
            "text/plain": [
              "<Figure size 800x600 with 1 Axes>"
            ],
            "image/png": "[encoded data removed]"
          },
          "metadata": {}
        }
      ]
    },
    {
      "cell_type": "markdown",
      "source": [
        "There are less no. of Outliers in Metascore so we can use the technique of mean for filling up the Null Values"
      ],
      "metadata": {
        "id": "wRD0PUmGohUa"
      }
    },
    {
      "cell_type": "code",
      "source": [
        "median_Grosses = df['Grosses'].median()\n",
        "median_Grosses\n"
      ],
      "metadata": {
        "colab": {
          "base_uri": "https://localhost:8080/"
        },
        "id": "Is1Vc9RLrwJQ",
        "outputId": "253b7d19-e9c4-4e3c-f8eb-f6f89de9bf81"
      },
      "execution_count": 19,
      "outputs": [
        {
          "output_type": "execute_result",
          "data": {
            "text/plain": [
              "25.44"
            ]
          },
          "metadata": {},
          "execution_count": 19
        }
      ]
    },
    {
      "cell_type": "code",
      "source": [
        "mean_Metascore = df['Metascore'].mean()\n",
        "mean_Metascore"
      ],
      "metadata": {
        "colab": {
          "base_uri": "https://localhost:8080/"
        },
        "id": "5VOs-Z6_sMZt",
        "outputId": "73c960ea-2fba-49a0-8b44-03d3d13c65c0"
      },
      "execution_count": 20,
      "outputs": [
        {
          "output_type": "execute_result",
          "data": {
            "text/plain": [
              "79.08165680473373"
            ]
          },
          "metadata": {},
          "execution_count": 20
        }
      ]
    },
    {
      "cell_type": "code",
      "source": [
        "# Change the data type of 'Metascore' to float\n",
        "df['Metascore'] = df['Metascore'].astype(float)\n",
        "\n",
        "# Replace NaN values in 'Metascore' with the mean of 'Metascore'\n",
        "df['Metascore'].fillna(mean_Metascore, inplace=True)\n"
      ],
      "metadata": {
        "id": "9fzlXRX8lVQ5"
      },
      "execution_count": 21,
      "outputs": []
    },
    {
      "cell_type": "code",
      "source": [
        "# Replace NaN values in 'Grosses' with the median of 'Grosses'\n",
        "df['Grosses'].fillna(median_Grosses, inplace=True)"
      ],
      "metadata": {
        "id": "Dz1P9-ox3mQC"
      },
      "execution_count": 22,
      "outputs": []
    },
    {
      "cell_type": "code",
      "source": [
        "mn.matrix(df)"
      ],
      "metadata": {
        "id": "t0GNjNQQldpQ",
        "colab": {
          "base_uri": "https://localhost:8080/",
          "height": 690
        },
        "outputId": "465bc815-3699-46d3-a7b6-4fc44188b7d5"
      },
      "execution_count": 23,
      "outputs": [
        {
          "output_type": "execute_result",
          "data": {
            "text/plain": [
              "<Axes: >"
            ]
          },
          "metadata": {},
          "execution_count": 23
        },
        {
          "output_type": "display_data",
          "data": {
            "text/plain": [
              "<Figure size 2500x1000 with 2 Axes>"
            ],
            "image/png": "[encoded data removed]"
          },
          "metadata": {}
        }
      ]
    },
    {
      "cell_type": "markdown",
      "source": [
        "All the Null Values has been Removed"
      ],
      "metadata": {
        "id": "wPbW29edmVFp"
      }
    },
    {
      "cell_type": "markdown",
      "source": [
        "We want to see the statiscal values of the numerical columns of our datsaet"
      ],
      "metadata": {
        "id": "bsIMkHyW722_"
      }
    },
    {
      "cell_type": "code",
      "source": [
        "df.describe()"
      ],
      "metadata": {
        "colab": {
          "base_uri": "https://localhost:8080/",
          "height": 300
        },
        "id": "0yMw9H9xM4PD",
        "outputId": "615d5a45-33af-4e43-b170-3e1a4a44a5ec"
      },
      "execution_count": 24,
      "outputs": [
        {
          "output_type": "execute_result",
          "data": {
            "text/plain": [
              "       Year_of_release    Watchtime  Movie_Rating    Metascore         Votes  \\\n",
              "count           1000.0  1000.000000   1000.000000  1000.000000  1.000000e+03   \n",
              "mean          1991.692   124.193000      7.970200    79.081657  3.225762e+05   \n",
              "std          24.211223    28.810168      0.273947    11.007112  3.924434e+05   \n",
              "min             1920.0    45.000000      7.600000    28.000000  2.565900e+04   \n",
              "25%             1975.0   103.000000      7.800000    73.000000  6.180125e+04   \n",
              "50%             1999.0   120.000000      7.900000    79.081657  1.580785e+05   \n",
              "75%             2011.0   139.000000      8.100000    86.000000  4.508938e+05   \n",
              "max             2023.0   321.000000      9.300000   100.000000  2.811733e+06   \n",
              "\n",
              "           Grosses  \n",
              "count  1000.000000  \n",
              "mean     65.002070  \n",
              "std     106.619892  \n",
              "min       0.000000  \n",
              "25%       5.017500  \n",
              "50%      25.440000  \n",
              "75%      70.532500  \n",
              "max     936.660000  "
            ],
            "text/html": [
              "\n",
              "  <div id=\"df-76510a0f-d350-408c-a4e4-d8deed02bfdc\" class=\"colab-df-container\">\n",
              "    <div>\n",
              "<style scoped>\n",
              "    .dataframe tbody tr th:only-of-type {\n",
              "        vertical-align: middle;\n",
              "    }\n",
              "\n",
              "    .dataframe tbody tr th {\n",
              "        vertical-align: top;\n",
              "    }\n",
              "\n",
              "    .dataframe thead th {\n",
              "        text-align: right;\n",
              "    }\n",
              "</style>\n",
              "<table border=\"1\" class=\"dataframe\">\n",
              "  <thead>\n",
              "    <tr style=\"text-align: right;\">\n",
              "      <th></th>\n",
              "      <th>Year_of_release</th>\n",
              "      <th>Watchtime</th>\n",
              "      <th>Movie_Rating</th>\n",
              "      <th>Metascore</th>\n",
              "      <th>Votes</th>\n",
              "      <th>Grosses</th>\n",
              "    </tr>\n",
              "  </thead>\n",
              "  <tbody>\n",
              "    <tr>\n",
              "      <th>count</th>\n",
              "      <td>1000.0</td>\n",
              "      <td>1000.000000</td>\n",
              "      <td>1000.000000</td>\n",
              "      <td>1000.000000</td>\n",
              "      <td>1.000000e+03</td>\n",
              "      <td>1000.000000</td>\n",
              "    </tr>\n",
              "    <tr>\n",
              "      <th>mean</th>\n",
              "      <td>1991.692</td>\n",
              "      <td>124.193000</td>\n",
              "      <td>7.970200</td>\n",
              "      <td>79.081657</td>\n",
              "      <td>3.225762e+05</td>\n",
              "      <td>65.002070</td>\n",
              "    </tr>\n",
              "    <tr>\n",
              "      <th>std</th>\n",
              "      <td>24.211223</td>\n",
              "      <td>28.810168</td>\n",
              "      <td>0.273947</td>\n",
              "      <td>11.007112</td>\n",
              "      <td>3.924434e+05</td>\n",
              "      <td>106.619892</td>\n",
              "    </tr>\n",
              "    <tr>\n",
              "      <th>min</th>\n",
              "      <td>1920.0</td>\n",
              "      <td>45.000000</td>\n",
              "      <td>7.600000</td>\n",
              "      <td>28.000000</td>\n",
              "      <td>2.565900e+04</td>\n",
              "      <td>0.000000</td>\n",
              "    </tr>\n",
              "    <tr>\n",
              "      <th>25%</th>\n",
              "      <td>1975.0</td>\n",
              "      <td>103.000000</td>\n",
              "      <td>7.800000</td>\n",
              "      <td>73.000000</td>\n",
              "      <td>6.180125e+04</td>\n",
              "      <td>5.017500</td>\n",
              "    </tr>\n",
              "    <tr>\n",
              "      <th>50%</th>\n",
              "      <td>1999.0</td>\n",
              "      <td>120.000000</td>\n",
              "      <td>7.900000</td>\n",
              "      <td>79.081657</td>\n",
              "      <td>1.580785e+05</td>\n",
              "      <td>25.440000</td>\n",
              "    </tr>\n",
              "    <tr>\n",
              "      <th>75%</th>\n",
              "      <td>2011.0</td>\n",
              "      <td>139.000000</td>\n",
              "      <td>8.100000</td>\n",
              "      <td>86.000000</td>\n",
              "      <td>4.508938e+05</td>\n",
              "      <td>70.532500</td>\n",
              "    </tr>\n",
              "    <tr>\n",
              "      <th>max</th>\n",
              "      <td>2023.0</td>\n",
              "      <td>321.000000</td>\n",
              "      <td>9.300000</td>\n",
              "      <td>100.000000</td>\n",
              "      <td>2.811733e+06</td>\n",
              "      <td>936.660000</td>\n",
              "    </tr>\n",
              "  </tbody>\n",
              "</table>\n",
              "</div>\n",
              "    <div class=\"colab-df-buttons\">\n",
              "\n",
              "  <div class=\"colab-df-container\">\n",
              "    <button class=\"colab-df-convert\" onclick=\"convertToInteractive('df-76510a0f-d350-408c-a4e4-d8deed02bfdc')\"\n",
              "            title=\"Convert this dataframe to an interactive table.\"\n",
              "            style=\"display:none;\">\n",
              "\n",
              "  <svg xmlns=\"http://www.w3.org/2000/svg\" height=\"24px\" viewBox=\"0 -960 960 960\">\n",
              "    <path d=\"M120-120v-720h720v720H120Zm60-500h600v-160H180v160Zm220 220h160v-160H400v160Zm0 220h160v-160H400v160ZM180-400h160v-160H180v160Zm440 0h160v-160H620v160ZM180-180h160v-160H180v160Zm440 0h160v-160H620v160Z\"/>\n",
              "  </svg>\n",
              "    </button>\n",
              "\n",
              "  <style>\n",
              "    .colab-df-container {\n",
              "      display:flex;\n",
              "      gap: 12px;\n",
              "    }\n",
              "\n",
              "    .colab-df-convert {\n",
              "      background-color: #E8F0FE;\n",
              "      border: none;\n",
              "      border-radius: 50%;\n",
              "      cursor: pointer;\n",
              "      display: none;\n",
              "      fill: #1967D2;\n",
              "      height: 32px;\n",
              "      padding: 0 0 0 0;\n",
              "      width: 32px;\n",
              "    }\n",
              "\n",
              "    .colab-df-convert:hover {\n",
              "      background-color: #E2EBFA;\n",
              "      box-shadow: 0px 1px 2px rgba(60, 64, 67, 0.3), 0px 1px 3px 1px rgba(60, 64, 67, 0.15);\n",
              "      fill: #174EA6;\n",
              "    }\n",
              "\n",
              "    .colab-df-buttons div {\n",
              "      margin-bottom: 4px;\n",
              "    }\n",
              "\n",
              "    [theme=dark] .colab-df-convert {\n",
              "      background-color: #3B4455;\n",
              "      fill: #D2E3FC;\n",
              "    }\n",
              "\n",
              "    [theme=dark] .colab-df-convert:hover {\n",
              "      background-color: #434B5C;\n",
              "      box-shadow: 0px 1px 3px 1px rgba(0, 0, 0, 0.15);\n",
              "      filter: drop-shadow(0px 1px 2px rgba(0, 0, 0, 0.3));\n",
              "      fill: #FFFFFF;\n",
              "    }\n",
              "  </style>\n",
              "\n",
              "    <script>\n",
              "      const buttonEl =\n",
              "        document.querySelector('#df-76510a0f-d350-408c-a4e4-d8deed02bfdc button.colab-df-convert');\n",
              "      buttonEl.style.display =\n",
              "        google.colab.kernel.accessAllowed ? 'block' : 'none';\n",
              "\n",
              "      async function convertToInteractive(key) {\n",
              "        const element = document.querySelector('#df-76510a0f-d350-408c-a4e4-d8deed02bfdc');\n",
              "        const dataTable =\n",
              "          await google.colab.kernel.invokeFunction('convertToInteractive',\n",
              "                                                    [key], {});\n",
              "        if (!dataTable) return;\n",
              "\n",
              "        const docLinkHtml = 'Like what you see? Visit the ' +\n",
              "          '<a target=\"_blank\" href=https://colab.research.google.com/notebooks/data_table.ipynb>data table notebook</a>'\n",
              "          + ' to learn more about interactive tables.';\n",
              "        element.innerHTML = '';\n",
              "        dataTable['output_type'] = 'display_data';\n",
              "        await google.colab.output.renderOutput(dataTable, element);\n",
              "        const docLink = document.createElement('div');\n",
              "        docLink.innerHTML = docLinkHtml;\n",
              "        element.appendChild(docLink);\n",
              "      }\n",
              "    </script>\n",
              "  </div>\n",
              "\n",
              "\n",
              "<div id=\"df-36f2b64b-d3aa-41d0-b5e4-619b5284c1df\">\n",
              "  <button class=\"colab-df-quickchart\" onclick=\"quickchart('df-36f2b64b-d3aa-41d0-b5e4-619b5284c1df')\"\n",
              "            title=\"Suggest charts.\"\n",
              "            style=\"display:none;\">\n",
              "\n",
              "<svg xmlns=\"http://www.w3.org/2000/svg\" height=\"24px\"viewBox=\"0 0 24 24\"\n",
              "     width=\"24px\">\n",
              "    <g>\n",
              "        <path d=\"M19 3H5c-1.1 0-2 .9-2 2v14c0 1.1.9 2 2 2h14c1.1 0 2-.9 2-2V5c0-1.1-.9-2-2-2zM9 17H7v-7h2v7zm4 0h-2V7h2v10zm4 0h-2v-4h2v4z\"/>\n",
              "    </g>\n",
              "</svg>\n",
              "  </button>\n",
              "\n",
              "<style>\n",
              "  .colab-df-quickchart {\n",
              "      --bg-color: #E8F0FE;\n",
              "      --fill-color: #1967D2;\n",
              "      --hover-bg-color: #E2EBFA;\n",
              "      --hover-fill-color: #174EA6;\n",
              "      --disabled-fill-color: #AAA;\n",
              "      --disabled-bg-color: #DDD;\n",
              "  }\n",
              "\n",
              "  [theme=dark] .colab-df-quickchart {\n",
              "      --bg-color: #3B4455;\n",
              "      --fill-color: #D2E3FC;\n",
              "      --hover-bg-color: #434B5C;\n",
              "      --hover-fill-color: #FFFFFF;\n",
              "      --disabled-bg-color: #3B4455;\n",
              "      --disabled-fill-color: #666;\n",
              "  }\n",
              "\n",
              "  .colab-df-quickchart {\n",
              "    background-color: var(--bg-color);\n",
              "    border: none;\n",
              "    border-radius: 50%;\n",
              "    cursor: pointer;\n",
              "    display: none;\n",
              "    fill: var(--fill-color);\n",
              "    height: 32px;\n",
              "    padding: 0;\n",
              "    width: 32px;\n",
              "  }\n",
              "\n",
              "  .colab-df-quickchart:hover {\n",
              "    background-color: var(--hover-bg-color);\n",
              "    box-shadow: 0 1px 2px rgba(60, 64, 67, 0.3), 0 1px 3px 1px rgba(60, 64, 67, 0.15);\n",
              "    fill: var(--button-hover-fill-color);\n",
              "  }\n",
              "\n",
              "  .colab-df-quickchart-complete:disabled,\n",
              "  .colab-df-quickchart-complete:disabled:hover {\n",
              "    background-color: var(--disabled-bg-color);\n",
              "    fill: var(--disabled-fill-color);\n",
              "    box-shadow: none;\n",
              "  }\n",
              "\n",
              "  .colab-df-spinner {\n",
              "    border: 2px solid var(--fill-color);\n",
              "    border-color: transparent;\n",
              "    border-bottom-color: var(--fill-color);\n",
              "    animation:\n",
              "      spin 1s steps(1) infinite;\n",
              "  }\n",
              "\n",
              "  @keyframes spin {\n",
              "    0% {\n",
              "      border-color: transparent;\n",
              "      border-bottom-color: var(--fill-color);\n",
              "      border-left-color: var(--fill-color);\n",
              "    }\n",
              "    20% {\n",
              "      border-color: transparent;\n",
              "      border-left-color: var(--fill-color);\n",
              "      border-top-color: var(--fill-color);\n",
              "    }\n",
              "    30% {\n",
              "      border-color: transparent;\n",
              "      border-left-color: var(--fill-color);\n",
              "      border-top-color: var(--fill-color);\n",
              "      border-right-color: var(--fill-color);\n",
              "    }\n",
              "    40% {\n",
              "      border-color: transparent;\n",
              "      border-right-color: var(--fill-color);\n",
              "      border-top-color: var(--fill-color);\n",
              "    }\n",
              "    60% {\n",
              "      border-color: transparent;\n",
              "      border-right-color: var(--fill-color);\n",
              "    }\n",
              "    80% {\n",
              "      border-color: transparent;\n",
              "      border-right-color: var(--fill-color);\n",
              "      border-bottom-color: var(--fill-color);\n",
              "    }\n",
              "    90% {\n",
              "      border-color: transparent;\n",
              "      border-bottom-color: var(--fill-color);\n",
              "    }\n",
              "  }\n",
              "</style>\n",
              "\n",
              "  <script>\n",
              "    async function quickchart(key) {\n",
              "      const quickchartButtonEl =\n",
              "        document.querySelector('#' + key + ' button');\n",
              "      quickchartButtonEl.disabled = true;  // To prevent multiple clicks.\n",
              "      quickchartButtonEl.classList.add('colab-df-spinner');\n",
              "      try {\n",
              "        const charts = await google.colab.kernel.invokeFunction(\n",
              "            'suggestCharts', [key], {});\n",
              "      } catch (error) {\n",
              "        console.error('Error during call to suggestCharts:', error);\n",
              "      }\n",
              "      quickchartButtonEl.classList.remove('colab-df-spinner');\n",
              "      quickchartButtonEl.classList.add('colab-df-quickchart-complete');\n",
              "    }\n",
              "    (() => {\n",
              "      let quickchartButtonEl =\n",
              "        document.querySelector('#df-36f2b64b-d3aa-41d0-b5e4-619b5284c1df button');\n",
              "      quickchartButtonEl.style.display =\n",
              "        google.colab.kernel.accessAllowed ? 'block' : 'none';\n",
              "    })();\n",
              "  </script>\n",
              "</div>\n",
              "    </div>\n",
              "  </div>\n"
            ]
          },
          "metadata": {},
          "execution_count": 24
        }
      ]
    },
    {
      "cell_type": "markdown",
      "source": [
        "**Analyzing & Deleting Unnecessary Columns present in our dataset**"
      ],
      "metadata": {
        "id": "02xGSa81-Izi"
      }
    },
    {
      "cell_type": "markdown",
      "source": [
        "First analyzing our numerical columns , for that we can use Heat map which will tell the correlation between two variables . It will allow us to know that which varibale is affected by the another variable."
      ],
      "metadata": {
        "id": "IoD5uvfQ-nsY"
      }
    },
    {
      "cell_type": "code",
      "source": [
        "#HEAT MAP\n",
        "\n",
        "# Taking numerical columns\n",
        "num_col = df[[\"Year_of_release\" , \"Watchtime\" , \"Movie_Rating\" , \"Metascore\" , \"Votes\" , \"Grosses\" , ]]\n",
        "num_col = num_col.corr()\n",
        "ax = sns.heatmap(num_col,\n",
        "            xticklabels=num_col.columns,\n",
        "            yticklabels=num_col.columns,\n",
        "            annot = True,\n",
        "            cmap =\"RdYlGn\")"
      ],
      "metadata": {
        "id": "JrAsdqG79wbw",
        "colab": {
          "base_uri": "https://localhost:8080/",
          "height": 529
        },
        "outputId": "d17287b5-8991-4039-e040-019c7d70a96e"
      },
      "execution_count": 25,
      "outputs": [
        {
          "output_type": "display_data",
          "data": {
            "text/plain": [
              "<Figure size 640x480 with 2 Axes>"
            ],
            "image/png": "[encoded data removed]"
          },
          "metadata": {}
        }
      ]
    },
    {
      "cell_type": "markdown",
      "source": [
        "**Inference**"
      ],
      "metadata": {
        "id": "2_hdNBYeSm43"
      }
    },
    {
      "cell_type": "markdown",
      "source": [
        "We can see from this Heat Map:  \n",
        "\n",
        "*  Also there is strong correlation of 0.49 between Movie_Rating and Votes.\n",
        "\n",
        "\n",
        "*  And the highest positive correlation of 0.57 between Grosses and Votes.\n",
        "\n",
        "\n",
        "*  As we can see watchtime has very week correlation with all the other attributes and will not be usefull for our predection.\n",
        "\n",
        "\n",
        "\n",
        "\n",
        "\n",
        "\n"
      ],
      "metadata": {
        "id": "g3OhgbmamqCi"
      }
    },
    {
      "cell_type": "code",
      "source": [
        "df.head()"
      ],
      "metadata": {
        "id": "EwWppQnI_bJ4",
        "colab": {
          "base_uri": "https://localhost:8080/",
          "height": 345
        },
        "outputId": "cde9a899-a288-43d5-fb29-a91b41a042e9"
      },
      "execution_count": 26,
      "outputs": [
        {
          "output_type": "execute_result",
          "data": {
            "text/plain": [
              "                                   Name_of_movie  Year_of_release  Watchtime  \\\n",
              "0                       The Shawshank Redemption             1994        142   \n",
              "1                                  The Godfather             1972        175   \n",
              "2                                The Dark Knight             2008        152   \n",
              "3                               Schindler's List             1993        195   \n",
              "4  The Lord of the Rings: The Return of the King             2003        201   \n",
              "\n",
              "   Movie_Rating  Metascore    Votes  Grosses  \\\n",
              "0           9.3       82.0  2811733    28.34   \n",
              "1           9.2      100.0  1959532   134.97   \n",
              "2           9.0       84.0  2793415   534.86   \n",
              "3           9.0       95.0  1413454    96.90   \n",
              "4           9.0       94.0  1925087   377.85   \n",
              "\n",
              "                                         Description              Director  \\\n",
              "0  Over the course of several years, two convicts...        Frank Darabont   \n",
              "1  Don Vito Corleone, head of a mafia family, dec...  Francis Ford Coppola   \n",
              "2  When the menace known as the Joker wreaks havo...     Christopher Nolan   \n",
              "3  In German-occupied Poland during World War II,...      Steven Spielberg   \n",
              "4  Gandalf and Aragorn lead the World of Men agai...         Peter Jackson   \n",
              "\n",
              "                                               Stars  \\\n",
              "0  ['Tim Robbins', 'Morgan Freeman', 'Bob Gunton'...   \n",
              "1  ['Marlon Brando', 'Al Pacino', 'James Caan', '...   \n",
              "2  ['Christian Bale', 'Heath Ledger', 'Aaron Eckh...   \n",
              "3  ['Liam Neeson', 'Ralph Fiennes', 'Ben Kingsley...   \n",
              "4  ['Elijah Wood', 'Viggo Mortensen', 'Ian McKell...   \n",
              "\n",
              "                                  Genres  \n",
              "0                      Drama              \n",
              "1               Crime, Drama              \n",
              "2       Action, Crime, Drama              \n",
              "3  Biography, Drama, History              \n",
              "4   Action, Adventure, Drama              "
            ],
            "text/html": [
              "\n",
              "  <div id=\"df-5974c928-cc59-411b-b069-6181da9d1df4\" class=\"colab-df-container\">\n",
              "    <div>\n",
              "<style scoped>\n",
              "    .dataframe tbody tr th:only-of-type {\n",
              "        vertical-align: middle;\n",
              "    }\n",
              "\n",
              "    .dataframe tbody tr th {\n",
              "        vertical-align: top;\n",
              "    }\n",
              "\n",
              "    .dataframe thead th {\n",
              "        text-align: right;\n",
              "    }\n",
              "</style>\n",
              "<table border=\"1\" class=\"dataframe\">\n",
              "  <thead>\n",
              "    <tr style=\"text-align: right;\">\n",
              "      <th></th>\n",
              "      <th>Name_of_movie</th>\n",
              "      <th>Year_of_release</th>\n",
              "      <th>Watchtime</th>\n",
              "      <th>Movie_Rating</th>\n",
              "      <th>Metascore</th>\n",
              "      <th>Votes</th>\n",
              "      <th>Grosses</th>\n",
              "      <th>Description</th>\n",
              "      <th>Director</th>\n",
              "      <th>Stars</th>\n",
              "      <th>Genres</th>\n",
              "    </tr>\n",
              "  </thead>\n",
              "  <tbody>\n",
              "    <tr>\n",
              "      <th>0</th>\n",
              "      <td>The Shawshank Redemption</td>\n",
              "      <td>1994</td>\n",
              "      <td>142</td>\n",
              "      <td>9.3</td>\n",
              "      <td>82.0</td>\n",
              "      <td>2811733</td>\n",
              "      <td>28.34</td>\n",
              "      <td>Over the course of several years, two convicts...</td>\n",
              "      <td>Frank Darabont</td>\n",
              "      <td>['Tim Robbins', 'Morgan Freeman', 'Bob Gunton'...</td>\n",
              "      <td>Drama</td>\n",
              "    </tr>\n",
              "    <tr>\n",
              "      <th>1</th>\n",
              "      <td>The Godfather</td>\n",
              "      <td>1972</td>\n",
              "      <td>175</td>\n",
              "      <td>9.2</td>\n",
              "      <td>100.0</td>\n",
              "      <td>1959532</td>\n",
              "      <td>134.97</td>\n",
              "      <td>Don Vito Corleone, head of a mafia family, dec...</td>\n",
              "      <td>Francis Ford Coppola</td>\n",
              "      <td>['Marlon Brando', 'Al Pacino', 'James Caan', '...</td>\n",
              "      <td>Crime, Drama</td>\n",
              "    </tr>\n",
              "    <tr>\n",
              "      <th>2</th>\n",
              "      <td>The Dark Knight</td>\n",
              "      <td>2008</td>\n",
              "      <td>152</td>\n",
              "      <td>9.0</td>\n",
              "      <td>84.0</td>\n",
              "      <td>2793415</td>\n",
              "      <td>534.86</td>\n",
              "      <td>When the menace known as the Joker wreaks havo...</td>\n",
              "      <td>Christopher Nolan</td>\n",
              "      <td>['Christian Bale', 'Heath Ledger', 'Aaron Eckh...</td>\n",
              "      <td>Action, Crime, Drama</td>\n",
              "    </tr>\n",
              "    <tr>\n",
              "      <th>3</th>\n",
              "      <td>Schindler's List</td>\n",
              "      <td>1993</td>\n",
              "      <td>195</td>\n",
              "      <td>9.0</td>\n",
              "      <td>95.0</td>\n",
              "      <td>1413454</td>\n",
              "      <td>96.90</td>\n",
              "      <td>In German-occupied Poland during World War II,...</td>\n",
              "      <td>Steven Spielberg</td>\n",
              "      <td>['Liam Neeson', 'Ralph Fiennes', 'Ben Kingsley...</td>\n",
              "      <td>Biography, Drama, History</td>\n",
              "    </tr>\n",
              "    <tr>\n",
              "      <th>4</th>\n",
              "      <td>The Lord of the Rings: The Return of the King</td>\n",
              "      <td>2003</td>\n",
              "      <td>201</td>\n",
              "      <td>9.0</td>\n",
              "      <td>94.0</td>\n",
              "      <td>1925087</td>\n",
              "      <td>377.85</td>\n",
              "      <td>Gandalf and Aragorn lead the World of Men agai...</td>\n",
              "      <td>Peter Jackson</td>\n",
              "      <td>['Elijah Wood', 'Viggo Mortensen', 'Ian McKell...</td>\n",
              "      <td>Action, Adventure, Drama</td>\n",
              "    </tr>\n",
              "  </tbody>\n",
              "</table>\n",
              "</div>\n",
              "    <div class=\"colab-df-buttons\">\n",
              "\n",
              "  <div class=\"colab-df-container\">\n",
              "    <button class=\"colab-df-convert\" onclick=\"convertToInteractive('df-5974c928-cc59-411b-b069-6181da9d1df4')\"\n",
              "            title=\"Convert this dataframe to an interactive table.\"\n",
              "            style=\"display:none;\">\n",
              "\n",
              "  <svg xmlns=\"http://www.w3.org/2000/svg\" height=\"24px\" viewBox=\"0 -960 960 960\">\n",
              "    <path d=\"M120-120v-720h720v720H120Zm60-500h600v-160H180v160Zm220 220h160v-160H400v160Zm0 220h160v-160H400v160ZM180-400h160v-160H180v160Zm440 0h160v-160H620v160ZM180-180h160v-160H180v160Zm440 0h160v-160H620v160Z\"/>\n",
              "  </svg>\n",
              "    </button>\n",
              "\n",
              "  <style>\n",
              "    .colab-df-container {\n",
              "      display:flex;\n",
              "      gap: 12px;\n",
              "    }\n",
              "\n",
              "    .colab-df-convert {\n",
              "      background-color: #E8F0FE;\n",
              "      border: none;\n",
              "      border-radius: 50%;\n",
              "      cursor: pointer;\n",
              "      display: none;\n",
              "      fill: #1967D2;\n",
              "      height: 32px;\n",
              "      padding: 0 0 0 0;\n",
              "      width: 32px;\n",
              "    }\n",
              "\n",
              "    .colab-df-convert:hover {\n",
              "      background-color: #E2EBFA;\n",
              "      box-shadow: 0px 1px 2px rgba(60, 64, 67, 0.3), 0px 1px 3px 1px rgba(60, 64, 67, 0.15);\n",
              "      fill: #174EA6;\n",
              "    }\n",
              "\n",
              "    .colab-df-buttons div {\n",
              "      margin-bottom: 4px;\n",
              "    }\n",
              "\n",
              "    [theme=dark] .colab-df-convert {\n",
              "      background-color: #3B4455;\n",
              "      fill: #D2E3FC;\n",
              "    }\n",
              "\n",
              "    [theme=dark] .colab-df-convert:hover {\n",
              "      background-color: #434B5C;\n",
              "      box-shadow: 0px 1px 3px 1px rgba(0, 0, 0, 0.15);\n",
              "      filter: drop-shadow(0px 1px 2px rgba(0, 0, 0, 0.3));\n",
              "      fill: #FFFFFF;\n",
              "    }\n",
              "  </style>\n",
              "\n",
              "    <script>\n",
              "      const buttonEl =\n",
              "        document.querySelector('#df-5974c928-cc59-411b-b069-6181da9d1df4 button.colab-df-convert');\n",
              "      buttonEl.style.display =\n",
              "        google.colab.kernel.accessAllowed ? 'block' : 'none';\n",
              "\n",
              "      async function convertToInteractive(key) {\n",
              "        const element = document.querySelector('#df-5974c928-cc59-411b-b069-6181da9d1df4');\n",
              "        const dataTable =\n",
              "          await google.colab.kernel.invokeFunction('convertToInteractive',\n",
              "                                                    [key], {});\n",
              "        if (!dataTable) return;\n",
              "\n",
              "        const docLinkHtml = 'Like what you see? Visit the ' +\n",
              "          '<a target=\"_blank\" href=https://colab.research.google.com/notebooks/data_table.ipynb>data table notebook</a>'\n",
              "          + ' to learn more about interactive tables.';\n",
              "        element.innerHTML = '';\n",
              "        dataTable['output_type'] = 'display_data';\n",
              "        await google.colab.output.renderOutput(dataTable, element);\n",
              "        const docLink = document.createElement('div');\n",
              "        docLink.innerHTML = docLinkHtml;\n",
              "        element.appendChild(docLink);\n",
              "      }\n",
              "    </script>\n",
              "  </div>\n",
              "\n",
              "\n",
              "<div id=\"df-efc0055b-056e-4be2-8e78-2e33b6ec6367\">\n",
              "  <button class=\"colab-df-quickchart\" onclick=\"quickchart('df-efc0055b-056e-4be2-8e78-2e33b6ec6367')\"\n",
              "            title=\"Suggest charts.\"\n",
              "            style=\"display:none;\">\n",
              "\n",
              "<svg xmlns=\"http://www.w3.org/2000/svg\" height=\"24px\"viewBox=\"0 0 24 24\"\n",
              "     width=\"24px\">\n",
              "    <g>\n",
              "        <path d=\"M19 3H5c-1.1 0-2 .9-2 2v14c0 1.1.9 2 2 2h14c1.1 0 2-.9 2-2V5c0-1.1-.9-2-2-2zM9 17H7v-7h2v7zm4 0h-2V7h2v10zm4 0h-2v-4h2v4z\"/>\n",
              "    </g>\n",
              "</svg>\n",
              "  </button>\n",
              "\n",
              "<style>\n",
              "  .colab-df-quickchart {\n",
              "      --bg-color: #E8F0FE;\n",
              "      --fill-color: #1967D2;\n",
              "      --hover-bg-color: #E2EBFA;\n",
              "      --hover-fill-color: #174EA6;\n",
              "      --disabled-fill-color: #AAA;\n",
              "      --disabled-bg-color: #DDD;\n",
              "  }\n",
              "\n",
              "  [theme=dark] .colab-df-quickchart {\n",
              "      --bg-color: #3B4455;\n",
              "      --fill-color: #D2E3FC;\n",
              "      --hover-bg-color: #434B5C;\n",
              "      --hover-fill-color: #FFFFFF;\n",
              "      --disabled-bg-color: #3B4455;\n",
              "      --disabled-fill-color: #666;\n",
              "  }\n",
              "\n",
              "  .colab-df-quickchart {\n",
              "    background-color: var(--bg-color);\n",
              "    border: none;\n",
              "    border-radius: 50%;\n",
              "    cursor: pointer;\n",
              "    display: none;\n",
              "    fill: var(--fill-color);\n",
              "    height: 32px;\n",
              "    padding: 0;\n",
              "    width: 32px;\n",
              "  }\n",
              "\n",
              "  .colab-df-quickchart:hover {\n",
              "    background-color: var(--hover-bg-color);\n",
              "    box-shadow: 0 1px 2px rgba(60, 64, 67, 0.3), 0 1px 3px 1px rgba(60, 64, 67, 0.15);\n",
              "    fill: var(--button-hover-fill-color);\n",
              "  }\n",
              "\n",
              "  .colab-df-quickchart-complete:disabled,\n",
              "  .colab-df-quickchart-complete:disabled:hover {\n",
              "    background-color: var(--disabled-bg-color);\n",
              "    fill: var(--disabled-fill-color);\n",
              "    box-shadow: none;\n",
              "  }\n",
              "\n",
              "  .colab-df-spinner {\n",
              "    border: 2px solid var(--fill-color);\n",
              "    border-color: transparent;\n",
              "    border-bottom-color: var(--fill-color);\n",
              "    animation:\n",
              "      spin 1s steps(1) infinite;\n",
              "  }\n",
              "\n",
              "  @keyframes spin {\n",
              "    0% {\n",
              "      border-color: transparent;\n",
              "      border-bottom-color: var(--fill-color);\n",
              "      border-left-color: var(--fill-color);\n",
              "    }\n",
              "    20% {\n",
              "      border-color: transparent;\n",
              "      border-left-color: var(--fill-color);\n",
              "      border-top-color: var(--fill-color);\n",
              "    }\n",
              "    30% {\n",
              "      border-color: transparent;\n",
              "      border-left-color: var(--fill-color);\n",
              "      border-top-color: var(--fill-color);\n",
              "      border-right-color: var(--fill-color);\n",
              "    }\n",
              "    40% {\n",
              "      border-color: transparent;\n",
              "      border-right-color: var(--fill-color);\n",
              "      border-top-color: var(--fill-color);\n",
              "    }\n",
              "    60% {\n",
              "      border-color: transparent;\n",
              "      border-right-color: var(--fill-color);\n",
              "    }\n",
              "    80% {\n",
              "      border-color: transparent;\n",
              "      border-right-color: var(--fill-color);\n",
              "      border-bottom-color: var(--fill-color);\n",
              "    }\n",
              "    90% {\n",
              "      border-color: transparent;\n",
              "      border-bottom-color: var(--fill-color);\n",
              "    }\n",
              "  }\n",
              "</style>\n",
              "\n",
              "  <script>\n",
              "    async function quickchart(key) {\n",
              "      const quickchartButtonEl =\n",
              "        document.querySelector('#' + key + ' button');\n",
              "      quickchartButtonEl.disabled = true;  // To prevent multiple clicks.\n",
              "      quickchartButtonEl.classList.add('colab-df-spinner');\n",
              "      try {\n",
              "        const charts = await google.colab.kernel.invokeFunction(\n",
              "            'suggestCharts', [key], {});\n",
              "      } catch (error) {\n",
              "        console.error('Error during call to suggestCharts:', error);\n",
              "      }\n",
              "      quickchartButtonEl.classList.remove('colab-df-spinner');\n",
              "      quickchartButtonEl.classList.add('colab-df-quickchart-complete');\n",
              "    }\n",
              "    (() => {\n",
              "      let quickchartButtonEl =\n",
              "        document.querySelector('#df-efc0055b-056e-4be2-8e78-2e33b6ec6367 button');\n",
              "      quickchartButtonEl.style.display =\n",
              "        google.colab.kernel.accessAllowed ? 'block' : 'none';\n",
              "    })();\n",
              "  </script>\n",
              "</div>\n",
              "    </div>\n",
              "  </div>\n"
            ]
          },
          "metadata": {},
          "execution_count": 26
        }
      ]
    },
    {
      "cell_type": "markdown",
      "source": [
        "Now we will remove the Watchtime , Description as it is of no use for our further prediction ."
      ],
      "metadata": {
        "id": "TrOTmtEkvw61"
      }
    },
    {
      "cell_type": "code",
      "source": [
        "df = df.drop(['Watchtime', 'Description'], axis=1)"
      ],
      "metadata": {
        "id": "3nrsqwQvwHnk"
      },
      "execution_count": 27,
      "outputs": []
    },
    {
      "cell_type": "code",
      "source": [
        "df.head()"
      ],
      "metadata": {
        "id": "p66mVyxDwZM9",
        "colab": {
          "base_uri": "https://localhost:8080/",
          "height": 293
        },
        "outputId": "537f1b44-815c-45ac-ad62-1c91b0978e5e"
      },
      "execution_count": 28,
      "outputs": [
        {
          "output_type": "execute_result",
          "data": {
            "text/plain": [
              "                                   Name_of_movie  Year_of_release  \\\n",
              "0                       The Shawshank Redemption             1994   \n",
              "1                                  The Godfather             1972   \n",
              "2                                The Dark Knight             2008   \n",
              "3                               Schindler's List             1993   \n",
              "4  The Lord of the Rings: The Return of the King             2003   \n",
              "\n",
              "   Movie_Rating  Metascore    Votes  Grosses              Director  \\\n",
              "0           9.3       82.0  2811733    28.34        Frank Darabont   \n",
              "1           9.2      100.0  1959532   134.97  Francis Ford Coppola   \n",
              "2           9.0       84.0  2793415   534.86     Christopher Nolan   \n",
              "3           9.0       95.0  1413454    96.90      Steven Spielberg   \n",
              "4           9.0       94.0  1925087   377.85         Peter Jackson   \n",
              "\n",
              "                                               Stars  \\\n",
              "0  ['Tim Robbins', 'Morgan Freeman', 'Bob Gunton'...   \n",
              "1  ['Marlon Brando', 'Al Pacino', 'James Caan', '...   \n",
              "2  ['Christian Bale', 'Heath Ledger', 'Aaron Eckh...   \n",
              "3  ['Liam Neeson', 'Ralph Fiennes', 'Ben Kingsley...   \n",
              "4  ['Elijah Wood', 'Viggo Mortensen', 'Ian McKell...   \n",
              "\n",
              "                                  Genres  \n",
              "0                      Drama              \n",
              "1               Crime, Drama              \n",
              "2       Action, Crime, Drama              \n",
              "3  Biography, Drama, History              \n",
              "4   Action, Adventure, Drama              "
            ],
            "text/html": [
              "\n",
              "  <div id=\"df-dfe8ea7d-facb-447e-90b6-008e01073f55\" class=\"colab-df-container\">\n",
              "    <div>\n",
              "<style scoped>\n",
              "    .dataframe tbody tr th:only-of-type {\n",
              "        vertical-align: middle;\n",
              "    }\n",
              "\n",
              "    .dataframe tbody tr th {\n",
              "        vertical-align: top;\n",
              "    }\n",
              "\n",
              "    .dataframe thead th {\n",
              "        text-align: right;\n",
              "    }\n",
              "</style>\n",
              "<table border=\"1\" class=\"dataframe\">\n",
              "  <thead>\n",
              "    <tr style=\"text-align: right;\">\n",
              "      <th></th>\n",
              "      <th>Name_of_movie</th>\n",
              "      <th>Year_of_release</th>\n",
              "      <th>Movie_Rating</th>\n",
              "      <th>Metascore</th>\n",
              "      <th>Votes</th>\n",
              "      <th>Grosses</th>\n",
              "      <th>Director</th>\n",
              "      <th>Stars</th>\n",
              "      <th>Genres</th>\n",
              "    </tr>\n",
              "  </thead>\n",
              "  <tbody>\n",
              "    <tr>\n",
              "      <th>0</th>\n",
              "      <td>The Shawshank Redemption</td>\n",
              "      <td>1994</td>\n",
              "      <td>9.3</td>\n",
              "      <td>82.0</td>\n",
              "      <td>2811733</td>\n",
              "      <td>28.34</td>\n",
              "      <td>Frank Darabont</td>\n",
              "      <td>['Tim Robbins', 'Morgan Freeman', 'Bob Gunton'...</td>\n",
              "      <td>Drama</td>\n",
              "    </tr>\n",
              "    <tr>\n",
              "      <th>1</th>\n",
              "      <td>The Godfather</td>\n",
              "      <td>1972</td>\n",
              "      <td>9.2</td>\n",
              "      <td>100.0</td>\n",
              "      <td>1959532</td>\n",
              "      <td>134.97</td>\n",
              "      <td>Francis Ford Coppola</td>\n",
              "      <td>['Marlon Brando', 'Al Pacino', 'James Caan', '...</td>\n",
              "      <td>Crime, Drama</td>\n",
              "    </tr>\n",
              "    <tr>\n",
              "      <th>2</th>\n",
              "      <td>The Dark Knight</td>\n",
              "      <td>2008</td>\n",
              "      <td>9.0</td>\n",
              "      <td>84.0</td>\n",
              "      <td>2793415</td>\n",
              "      <td>534.86</td>\n",
              "      <td>Christopher Nolan</td>\n",
              "      <td>['Christian Bale', 'Heath Ledger', 'Aaron Eckh...</td>\n",
              "      <td>Action, Crime, Drama</td>\n",
              "    </tr>\n",
              "    <tr>\n",
              "      <th>3</th>\n",
              "      <td>Schindler's List</td>\n",
              "      <td>1993</td>\n",
              "      <td>9.0</td>\n",
              "      <td>95.0</td>\n",
              "      <td>1413454</td>\n",
              "      <td>96.90</td>\n",
              "      <td>Steven Spielberg</td>\n",
              "      <td>['Liam Neeson', 'Ralph Fiennes', 'Ben Kingsley...</td>\n",
              "      <td>Biography, Drama, History</td>\n",
              "    </tr>\n",
              "    <tr>\n",
              "      <th>4</th>\n",
              "      <td>The Lord of the Rings: The Return of the King</td>\n",
              "      <td>2003</td>\n",
              "      <td>9.0</td>\n",
              "      <td>94.0</td>\n",
              "      <td>1925087</td>\n",
              "      <td>377.85</td>\n",
              "      <td>Peter Jackson</td>\n",
              "      <td>['Elijah Wood', 'Viggo Mortensen', 'Ian McKell...</td>\n",
              "      <td>Action, Adventure, Drama</td>\n",
              "    </tr>\n",
              "  </tbody>\n",
              "</table>\n",
              "</div>\n",
              "    <div class=\"colab-df-buttons\">\n",
              "\n",
              "  <div class=\"colab-df-container\">\n",
              "    <button class=\"colab-df-convert\" onclick=\"convertToInteractive('df-dfe8ea7d-facb-447e-90b6-008e01073f55')\"\n",
              "            title=\"Convert this dataframe to an interactive table.\"\n",
              "            style=\"display:none;\">\n",
              "\n",
              "  <svg xmlns=\"http://www.w3.org/2000/svg\" height=\"24px\" viewBox=\"0 -960 960 960\">\n",
              "    <path d=\"M120-120v-720h720v720H120Zm60-500h600v-160H180v160Zm220 220h160v-160H400v160Zm0 220h160v-160H400v160ZM180-400h160v-160H180v160Zm440 0h160v-160H620v160ZM180-180h160v-160H180v160Zm440 0h160v-160H620v160Z\"/>\n",
              "  </svg>\n",
              "    </button>\n",
              "\n",
              "  <style>\n",
              "    .colab-df-container {\n",
              "      display:flex;\n",
              "      gap: 12px;\n",
              "    }\n",
              "\n",
              "    .colab-df-convert {\n",
              "      background-color: #E8F0FE;\n",
              "      border: none;\n",
              "      border-radius: 50%;\n",
              "      cursor: pointer;\n",
              "      display: none;\n",
              "      fill: #1967D2;\n",
              "      height: 32px;\n",
              "      padding: 0 0 0 0;\n",
              "      width: 32px;\n",
              "    }\n",
              "\n",
              "    .colab-df-convert:hover {\n",
              "      background-color: #E2EBFA;\n",
              "      box-shadow: 0px 1px 2px rgba(60, 64, 67, 0.3), 0px 1px 3px 1px rgba(60, 64, 67, 0.15);\n",
              "      fill: #174EA6;\n",
              "    }\n",
              "\n",
              "    .colab-df-buttons div {\n",
              "      margin-bottom: 4px;\n",
              "    }\n",
              "\n",
              "    [theme=dark] .colab-df-convert {\n",
              "      background-color: #3B4455;\n",
              "      fill: #D2E3FC;\n",
              "    }\n",
              "\n",
              "    [theme=dark] .colab-df-convert:hover {\n",
              "      background-color: #434B5C;\n",
              "      box-shadow: 0px 1px 3px 1px rgba(0, 0, 0, 0.15);\n",
              "      filter: drop-shadow(0px 1px 2px rgba(0, 0, 0, 0.3));\n",
              "      fill: #FFFFFF;\n",
              "    }\n",
              "  </style>\n",
              "\n",
              "    <script>\n",
              "      const buttonEl =\n",
              "        document.querySelector('#df-dfe8ea7d-facb-447e-90b6-008e01073f55 button.colab-df-convert');\n",
              "      buttonEl.style.display =\n",
              "        google.colab.kernel.accessAllowed ? 'block' : 'none';\n",
              "\n",
              "      async function convertToInteractive(key) {\n",
              "        const element = document.querySelector('#df-dfe8ea7d-facb-447e-90b6-008e01073f55');\n",
              "        const dataTable =\n",
              "          await google.colab.kernel.invokeFunction('convertToInteractive',\n",
              "                                                    [key], {});\n",
              "        if (!dataTable) return;\n",
              "\n",
              "        const docLinkHtml = 'Like what you see? Visit the ' +\n",
              "          '<a target=\"_blank\" href=https://colab.research.google.com/notebooks/data_table.ipynb>data table notebook</a>'\n",
              "          + ' to learn more about interactive tables.';\n",
              "        element.innerHTML = '';\n",
              "        dataTable['output_type'] = 'display_data';\n",
              "        await google.colab.output.renderOutput(dataTable, element);\n",
              "        const docLink = document.createElement('div');\n",
              "        docLink.innerHTML = docLinkHtml;\n",
              "        element.appendChild(docLink);\n",
              "      }\n",
              "    </script>\n",
              "  </div>\n",
              "\n",
              "\n",
              "<div id=\"df-9c706e95-3a92-4a9b-a8c8-8f313b1c7abd\">\n",
              "  <button class=\"colab-df-quickchart\" onclick=\"quickchart('df-9c706e95-3a92-4a9b-a8c8-8f313b1c7abd')\"\n",
              "            title=\"Suggest charts.\"\n",
              "            style=\"display:none;\">\n",
              "\n",
              "<svg xmlns=\"http://www.w3.org/2000/svg\" height=\"24px\"viewBox=\"0 0 24 24\"\n",
              "     width=\"24px\">\n",
              "    <g>\n",
              "        <path d=\"M19 3H5c-1.1 0-2 .9-2 2v14c0 1.1.9 2 2 2h14c1.1 0 2-.9 2-2V5c0-1.1-.9-2-2-2zM9 17H7v-7h2v7zm4 0h-2V7h2v10zm4 0h-2v-4h2v4z\"/>\n",
              "    </g>\n",
              "</svg>\n",
              "  </button>\n",
              "\n",
              "<style>\n",
              "  .colab-df-quickchart {\n",
              "      --bg-color: #E8F0FE;\n",
              "      --fill-color: #1967D2;\n",
              "      --hover-bg-color: #E2EBFA;\n",
              "      --hover-fill-color: #174EA6;\n",
              "      --disabled-fill-color: #AAA;\n",
              "      --disabled-bg-color: #DDD;\n",
              "  }\n",
              "\n",
              "  [theme=dark] .colab-df-quickchart {\n",
              "      --bg-color: #3B4455;\n",
              "      --fill-color: #D2E3FC;\n",
              "      --hover-bg-color: #434B5C;\n",
              "      --hover-fill-color: #FFFFFF;\n",
              "      --disabled-bg-color: #3B4455;\n",
              "      --disabled-fill-color: #666;\n",
              "  }\n",
              "\n",
              "  .colab-df-quickchart {\n",
              "    background-color: var(--bg-color);\n",
              "    border: none;\n",
              "    border-radius: 50%;\n",
              "    cursor: pointer;\n",
              "    display: none;\n",
              "    fill: var(--fill-color);\n",
              "    height: 32px;\n",
              "    padding: 0;\n",
              "    width: 32px;\n",
              "  }\n",
              "\n",
              "  .colab-df-quickchart:hover {\n",
              "    background-color: var(--hover-bg-color);\n",
              "    box-shadow: 0 1px 2px rgba(60, 64, 67, 0.3), 0 1px 3px 1px rgba(60, 64, 67, 0.15);\n",
              "    fill: var(--button-hover-fill-color);\n",
              "  }\n",
              "\n",
              "  .colab-df-quickchart-complete:disabled,\n",
              "  .colab-df-quickchart-complete:disabled:hover {\n",
              "    background-color: var(--disabled-bg-color);\n",
              "    fill: var(--disabled-fill-color);\n",
              "    box-shadow: none;\n",
              "  }\n",
              "\n",
              "  .colab-df-spinner {\n",
              "    border: 2px solid var(--fill-color);\n",
              "    border-color: transparent;\n",
              "    border-bottom-color: var(--fill-color);\n",
              "    animation:\n",
              "      spin 1s steps(1) infinite;\n",
              "  }\n",
              "\n",
              "  @keyframes spin {\n",
              "    0% {\n",
              "      border-color: transparent;\n",
              "      border-bottom-color: var(--fill-color);\n",
              "      border-left-color: var(--fill-color);\n",
              "    }\n",
              "    20% {\n",
              "      border-color: transparent;\n",
              "      border-left-color: var(--fill-color);\n",
              "      border-top-color: var(--fill-color);\n",
              "    }\n",
              "    30% {\n",
              "      border-color: transparent;\n",
              "      border-left-color: var(--fill-color);\n",
              "      border-top-color: var(--fill-color);\n",
              "      border-right-color: var(--fill-color);\n",
              "    }\n",
              "    40% {\n",
              "      border-color: transparent;\n",
              "      border-right-color: var(--fill-color);\n",
              "      border-top-color: var(--fill-color);\n",
              "    }\n",
              "    60% {\n",
              "      border-color: transparent;\n",
              "      border-right-color: var(--fill-color);\n",
              "    }\n",
              "    80% {\n",
              "      border-color: transparent;\n",
              "      border-right-color: var(--fill-color);\n",
              "      border-bottom-color: var(--fill-color);\n",
              "    }\n",
              "    90% {\n",
              "      border-color: transparent;\n",
              "      border-bottom-color: var(--fill-color);\n",
              "    }\n",
              "  }\n",
              "</style>\n",
              "\n",
              "  <script>\n",
              "    async function quickchart(key) {\n",
              "      const quickchartButtonEl =\n",
              "        document.querySelector('#' + key + ' button');\n",
              "      quickchartButtonEl.disabled = true;  // To prevent multiple clicks.\n",
              "      quickchartButtonEl.classList.add('colab-df-spinner');\n",
              "      try {\n",
              "        const charts = await google.colab.kernel.invokeFunction(\n",
              "            'suggestCharts', [key], {});\n",
              "      } catch (error) {\n",
              "        console.error('Error during call to suggestCharts:', error);\n",
              "      }\n",
              "      quickchartButtonEl.classList.remove('colab-df-spinner');\n",
              "      quickchartButtonEl.classList.add('colab-df-quickchart-complete');\n",
              "    }\n",
              "    (() => {\n",
              "      let quickchartButtonEl =\n",
              "        document.querySelector('#df-9c706e95-3a92-4a9b-a8c8-8f313b1c7abd button');\n",
              "      quickchartButtonEl.style.display =\n",
              "        google.colab.kernel.accessAllowed ? 'block' : 'none';\n",
              "    })();\n",
              "  </script>\n",
              "</div>\n",
              "    </div>\n",
              "  </div>\n"
            ]
          },
          "metadata": {},
          "execution_count": 28
        }
      ]
    },
    {
      "cell_type": "markdown",
      "source": [
        "Now we need to see that there are how many directors in the dataset basically unique"
      ],
      "metadata": {
        "id": "FPRtLl5kptt3"
      }
    },
    {
      "cell_type": "code",
      "source": [
        "df['Director'].nunique()\n"
      ],
      "metadata": {
        "id": "GAKAx71rqSYL",
        "colab": {
          "base_uri": "https://localhost:8080/"
        },
        "outputId": "785f27b9-f19f-4b7b-d1d5-02686f2b0545"
      },
      "execution_count": 29,
      "outputs": [
        {
          "output_type": "execute_result",
          "data": {
            "text/plain": [
              "582"
            ]
          },
          "metadata": {},
          "execution_count": 29
        }
      ]
    },
    {
      "cell_type": "markdown",
      "source": [
        "There are total 582 unique directors present in our dataset"
      ],
      "metadata": {
        "id": "di6e3DZaqYlw"
      }
    },
    {
      "cell_type": "markdown",
      "source": [
        "In the same way we need to know about stars as well as genre"
      ],
      "metadata": {
        "id": "hU_DBvioqilH"
      }
    },
    {
      "cell_type": "code",
      "source": [
        "df['Stars'].nunique()"
      ],
      "metadata": {
        "id": "wfMIpfWjqfQq",
        "colab": {
          "base_uri": "https://localhost:8080/"
        },
        "outputId": "6a66b088-07cf-4afe-8e9b-e80203da913e"
      },
      "execution_count": 30,
      "outputs": [
        {
          "output_type": "execute_result",
          "data": {
            "text/plain": [
              "998"
            ]
          },
          "metadata": {},
          "execution_count": 30
        }
      ]
    },
    {
      "cell_type": "code",
      "source": [
        "df['Genres'].nunique()"
      ],
      "metadata": {
        "id": "qCp0iOrnqnYu",
        "colab": {
          "base_uri": "https://localhost:8080/"
        },
        "outputId": "b2e89baa-683a-4ad0-c5d7-9b7b6f092aa9"
      },
      "execution_count": 31,
      "outputs": [
        {
          "output_type": "execute_result",
          "data": {
            "text/plain": [
              "195"
            ]
          },
          "metadata": {},
          "execution_count": 31
        }
      ]
    },
    {
      "cell_type": "markdown",
      "source": [
        "We need to remove Genres for the following reason:\n",
        "\n",
        "\n",
        "*   For eg, There are many action Movies whose gross were less than biography , drama ,etc genre. Therefore we can say that the box office collection depends on the quality of the movie rather than the genre. Hence, Genre is not a useful variable for accurate prediction.\n",
        "\n",
        "\n"
      ],
      "metadata": {
        "id": "zhbZJliswdPu"
      }
    },
    {
      "cell_type": "code",
      "source": [
        "df = df.drop(['Genres'], axis=1)"
      ],
      "metadata": {
        "id": "dG5zb4wow8ru"
      },
      "execution_count": 32,
      "outputs": []
    },
    {
      "cell_type": "markdown",
      "source": [
        "---\n",
        "# **EXPLORATORY DATA ANALYSIS**\n",
        "\n",
        "---"
      ],
      "metadata": {
        "id": "4Vp5Fx8DrQgk"
      }
    },
    {
      "cell_type": "markdown",
      "source": [
        "Exploratory Data Analysis (EDA) is crucial for movie box office prediction as it offers insights into the dataset's characteristics, helping identify trends, outliers, and relationships among variables. EDA aids in data preprocessing, feature selection, and the creation of informative features. It allows for the visualization of patterns and helps choose appropriate models. EDA helps ensure that data is properly prepared, enhancing model performance, and enables better understanding of the factors influencing box office earnings, improving the accuracy of predictions. This process is fundamental for making informed decisions and building reliable predictive models in the movie industry.\n"
      ],
      "metadata": {
        "id": "WfMflygorakj"
      }
    },
    {
      "cell_type": "markdown",
      "source": [
        "First we need to analyze our year_of_release distribution that our dataset consists of Movies release in which year so we need to plot a Histogram for with the years on the x-axis and the count of movies on the y-axis. This will give us a visual representation of the distribution of movie releases over the year ."
      ],
      "metadata": {
        "id": "FUr6JQg_OBsR"
      }
    },
    {
      "cell_type": "code",
      "source": [
        "plt.figure(figsize=(20, 10))\n",
        "sns.countplot(data=df, x='Year_of_release', palette='viridis')\n",
        "plt.xlabel('Year of Release')\n",
        "plt.ylabel('Count of Movies')\n",
        "plt.title('Distribution of Year of Release')\n",
        "plt.xticks(rotation=90)\n",
        "plt.show()\n",
        "\n"
      ],
      "metadata": {
        "id": "YUJcAQ0EPRbr",
        "colab": {
          "base_uri": "https://localhost:8080/",
          "height": 785
        },
        "outputId": "ae9fca08-0918-4db2-8932-793421db00af"
      },
      "execution_count": 33,
      "outputs": [
        {
          "output_type": "display_data",
          "data": {
            "text/plain": [
              "<Figure size 2000x1000 with 1 Axes>"
            ],
            "image/png": "[encoded data removed]"
          },
          "metadata": {}
        }
      ]
    },
    {
      "cell_type": "markdown",
      "source": [
        "**Inference**"
      ],
      "metadata": {
        "id": "RUdgP0WzmnfD"
      }
    },
    {
      "cell_type": "markdown",
      "source": [
        "\n",
        "\n",
        "*   It shows our dataset consists of the highest no. of movies in year 2004\n",
        "*   Only 1 movie in year 1920 , 1921 , 1922 each\n",
        "\n",
        "\n"
      ],
      "metadata": {
        "id": "EjBJyatcSpnD"
      }
    },
    {
      "cell_type": "markdown",
      "source": [
        "\n",
        "To find in which year the movie has the highest Metascore, we can create a bar plot with years on the x-axis and the mean Metascore for each year on the y-axis. This will show us the average Metascore for each year and help identify the year with the highest Metascore."
      ],
      "metadata": {
        "id": "nACv7TQ6UeJh"
      }
    },
    {
      "cell_type": "code",
      "source": [
        "# Group the data by 'Year_of_release' and calculate the mean Metascore for each year\n",
        "metascore_by_year = df.groupby('Year_of_release')['Metascore'].mean().reset_index()\n",
        "\n",
        "# Create a bar plot to visualize the mean Metascore for each year\n",
        "plt.figure(figsize=(20, 10))\n",
        "sns.barplot(data=metascore_by_year, x='Year_of_release', y='Metascore', palette='viridis')\n",
        "plt.xlabel('Year of Release')\n",
        "plt.ylabel('Mean Metascore')\n",
        "plt.title('Mean Metascore by Year of Release')\n",
        "plt.xticks(rotation=90)  # Rotate x-axis labels for better visibility\n",
        "plt.show()"
      ],
      "metadata": {
        "id": "CEiaaVczU2u2",
        "colab": {
          "base_uri": "https://localhost:8080/",
          "height": 781
        },
        "outputId": "52424dcb-ec75-482f-d5cb-220a799c38e6"
      },
      "execution_count": 34,
      "outputs": [
        {
          "output_type": "display_data",
          "data": {
            "text/plain": [
              "<Figure size 2000x1000 with 1 Axes>"
            ],
            "image/png": "[encoded data removed]"
          },
          "metadata": {}
        }
      ]
    },
    {
      "cell_type": "markdown",
      "source": [
        "1927 is the year with the movies consisting of highest Metascore"
      ],
      "metadata": {
        "id": "s8T7pLKGVE2Y"
      }
    },
    {
      "cell_type": "markdown",
      "source": [
        "Now in order to understand the distribution of Votes we will plot a histogram"
      ],
      "metadata": {
        "id": "jyIhV4SYe_9L"
      }
    },
    {
      "cell_type": "code",
      "source": [
        "# Create a figure and axis\n",
        "fig, ax = plt.subplots()\n",
        "\n",
        "# Set a custom color for the bars\n",
        "color = 'skyblue'\n",
        "\n",
        "# Plot the histogram\n",
        "ax.hist(df['Votes'], bins=20, color=color, edgecolor='black', alpha=0.7)\n",
        "\n",
        "# Add labels and title\n",
        "plt.xlabel('Votes', fontsize=12)\n",
        "plt.ylabel('Frequency', fontsize=12)\n",
        "plt.title('Distribution of Votes', fontsize=16)\n",
        "\n",
        "# Add grid lines\n",
        "ax.grid(axis='y', linestyle='--', alpha=0.7)\n",
        "\n",
        "# Remove the top and right spines\n",
        "ax.spines['top'].set_visible(False)\n",
        "ax.spines['right'].set_visible(False)\n",
        "\n",
        "# Show the plot\n",
        "plt.show()\n"
      ],
      "metadata": {
        "id": "_MVEFwLCe5uF",
        "colab": {
          "base_uri": "https://localhost:8080/",
          "height": 478
        },
        "outputId": "2c307270-b124-4ed2-c4b2-712baa7f273b"
      },
      "execution_count": 35,
      "outputs": [
        {
          "output_type": "display_data",
          "data": {
            "text/plain": [
              "<Figure size 640x480 with 1 Axes>"
            ],
            "image/png": "[encoded data removed]"
          },
          "metadata": {}
        }
      ]
    },
    {
      "cell_type": "markdown",
      "source": [
        "**Insight**"
      ],
      "metadata": {
        "id": "8IV7UjlCfPDB"
      }
    },
    {
      "cell_type": "markdown",
      "source": [
        "It shows that in our dataset Movies having votes between 0.1 to 0.8 are the highest and even the movies with votes greater than 1.5 which are considered as good are also there so it shows that we have Votes of every variety in our dataset. This is Positively Skewed which shows most of the data lies on the left tail of the graph"
      ],
      "metadata": {
        "id": "kqr9Nx0sfRX1"
      }
    },
    {
      "cell_type": "markdown",
      "source": [
        "In the same way we can go for Movie_rating distribution in our dataset to check whether our dataset is biased or not"
      ],
      "metadata": {
        "id": "rc4oZ7nwgp0u"
      }
    },
    {
      "cell_type": "code",
      "source": [
        "# Create a figure and axis\n",
        "fig, ax = plt.subplots()\n",
        "\n",
        "# Set a custom color for the bars\n",
        "color = 'skyblue'\n",
        "\n",
        "# Plot the histogram\n",
        "ax.hist(df['Movie_Rating'], bins=20, color=color, edgecolor='black', alpha=0.7)\n",
        "\n",
        "# Add labels and title\n",
        "plt.xlabel('Movie Rating', fontsize=12)\n",
        "plt.ylabel('Frequency', fontsize=12)\n",
        "plt.title('Distribution of Movie Rating', fontsize=16)\n",
        "\n",
        "# Add grid lines\n",
        "ax.grid(axis='y', linestyle='--', alpha=0.7)\n",
        "\n",
        "# Remove the top and right spines\n",
        "ax.spines['top'].set_visible(False)\n",
        "ax.spines['right'].set_visible(False)\n",
        "\n",
        "# Show the plot\n",
        "plt.show()"
      ],
      "metadata": {
        "id": "PfaZ8PlCg43T",
        "colab": {
          "base_uri": "https://localhost:8080/",
          "height": 478
        },
        "outputId": "c21d8b8a-e880-4c52-9e65-f71f0d2862c5"
      },
      "execution_count": 36,
      "outputs": [
        {
          "output_type": "display_data",
          "data": {
            "text/plain": [
              "<Figure size 640x480 with 1 Axes>"
            ],
            "image/png": "[encoded data removed]"
          },
          "metadata": {}
        }
      ]
    },
    {
      "cell_type": "markdown",
      "source": [
        "**Insight**\n"
      ],
      "metadata": {
        "id": "Ge6cPGx0hEBh"
      }
    },
    {
      "cell_type": "markdown",
      "source": [
        "So we can see that movies with Movie Rating are greater than 5 . So it justifies that we have scraped top 1000 IMDB movies and our dataset is more concentrated towards good Movies . This is also positively Skewed"
      ],
      "metadata": {
        "id": "mY4c9QWxhGkS"
      }
    },
    {
      "cell_type": "markdown",
      "source": [
        "Now in order to visualize the summary statistics (median, quartiles, and outliers) of Movie_Rating we can plot a Box Plot"
      ],
      "metadata": {
        "id": "ivxBZ4OhiDK0"
      }
    },
    {
      "cell_type": "code",
      "source": [
        "# Create a box plot\n",
        "sns.set(style=\"whitegrid\")\n",
        "ax = sns.boxplot(y='Movie_Rating', data=df)\n",
        "\n",
        "# Calculate statistical values\n",
        "quartiles = df['Movie_Rating'].quantile([0.25, 0.5, 0.75])\n",
        "median = quartiles[0.5]\n",
        "q1 = quartiles[0.25]\n",
        "q3 = quartiles[0.75]\n",
        "\n",
        "# Find potential outliers\n",
        "iqr = q3 - q1\n",
        "lower_bound = q1 - 1.5 * iqr\n",
        "upper_bound = q3 + 1.5 * iqr\n",
        "\n",
        "\n",
        "# Print the statistical measures and outliers\n",
        "print(\"Quartiles (Q1, Median, Q3):\", q1, median, q3)\n",
        "print(\"\\n\")\n",
        "print(\"Lower Bound is: \",lower_bound)\n",
        "print(\"\\n\")\n",
        "print(\"Upper Bound is: \",upper_bound)\n",
        "print(\"\\n\")\n",
        "outliers = df[(df['Movie_Rating'] < lower_bound) | (df['Movie_Rating'] > upper_bound)]\n",
        "print(\"Potential Outliers:\\n\", outliers['Movie_Rating'])\n",
        "\n",
        "\n",
        "# Add a title\n",
        "plt.title('Box Plot of Movie Ratings')\n",
        "plt.show()\n",
        "\n",
        "\n",
        "\n",
        "\n",
        "\n",
        "\n",
        "\n",
        "\n",
        "\n",
        "\n",
        "\n",
        "\n",
        "\n",
        "\n",
        "\n",
        "\n"
      ],
      "metadata": {
        "id": "uTiDIvgSggXG",
        "colab": {
          "base_uri": "https://localhost:8080/",
          "height": 1000
        },
        "outputId": "9df33f4e-13e6-4d4f-b8f1-49210858f5c5"
      },
      "execution_count": 37,
      "outputs": [
        {
          "output_type": "stream",
          "name": "stdout",
          "text": [
            "Quartiles (Q1, Median, Q3): 7.8 7.9 8.1\n",
            "\n",
            "\n",
            "Lower Bound is:  7.35\n",
            "\n",
            "\n",
            "Upper Bound is:  8.549999999999999\n",
            "\n",
            "\n",
            "Potential Outliers:\n",
            " 0     9.3\n",
            "1     9.2\n",
            "2     9.0\n",
            "3     9.0\n",
            "4     9.0\n",
            "5     9.0\n",
            "6     9.0\n",
            "7     8.9\n",
            "8     8.8\n",
            "9     8.8\n",
            "10    8.8\n",
            "11    8.8\n",
            "12    8.8\n",
            "13    8.8\n",
            "14    8.8\n",
            "15    8.8\n",
            "16    8.7\n",
            "17    8.7\n",
            "18    8.7\n",
            "19    8.7\n",
            "20    8.7\n",
            "21    8.7\n",
            "22    8.7\n",
            "23    8.7\n",
            "24    8.6\n",
            "25    8.6\n",
            "26    8.6\n",
            "27    8.6\n",
            "28    8.6\n",
            "29    8.6\n",
            "30    8.6\n",
            "31    8.6\n",
            "32    8.6\n",
            "33    8.6\n",
            "34    8.6\n",
            "35    8.6\n",
            "36    8.6\n",
            "Name: Movie_Rating, dtype: float64\n"
          ]
        },
        {
          "output_type": "display_data",
          "data": {
            "text/plain": [
              "<Figure size 640x480 with 1 Axes>"
            ],
            "image/png": "[encoded data removed]"
          },
          "metadata": {}
        }
      ]
    },
    {
      "cell_type": "markdown",
      "source": [
        "We can see from the box plot for Movie_Rating:\n",
        "\n",
        "\n",
        "*   There are total 7 Outliers\n",
        "*   Highest Movie Rating is 9.3\n",
        "\n",
        "\n",
        "*   Q1 = 7.8\n",
        "*   Median = 7.9\n",
        "\n",
        "\n",
        "*   Q3 = 8.1\n",
        "*   Movie rating > 8.54 and < 7.35 are considered as Ouliers\n",
        "\n",
        "\n",
        "\n",
        "\n",
        "\n"
      ],
      "metadata": {
        "id": "PTla3Jhzixoq"
      }
    },
    {
      "cell_type": "markdown",
      "source": [
        "Now I want to see the name of the movie which has the highest Movie Rating 9.3"
      ],
      "metadata": {
        "id": "Aft3XBRtlpKX"
      }
    },
    {
      "cell_type": "code",
      "source": [
        "# Filter the DataFrame for outliers with a Movie Rating of 9.3\n",
        "outliers = df[df['Movie_Rating'] == 9.3]\n",
        "\n",
        "# Get the name of the movie with the highest Movie Rating among outliers\n",
        "highest_rated_outlier_movie = outliers[outliers['Movie_Rating'] == outliers['Movie_Rating'].max()]\n",
        "\n",
        "# Print the name of the movie\n",
        "movie_name = highest_rated_outlier_movie['Name_of_movie'].values[0]\n",
        "print(\"Movie with the highest Movie Rating (outlier):\", movie_name)\n"
      ],
      "metadata": {
        "id": "5V3VQt0UmQB3",
        "colab": {
          "base_uri": "https://localhost:8080/"
        },
        "outputId": "897eb45c-1c18-4524-a485-701579755454"
      },
      "execution_count": 38,
      "outputs": [
        {
          "output_type": "stream",
          "name": "stdout",
          "text": [
            "Movie with the highest Movie Rating (outlier): The Shawshank Redemption\n"
          ]
        }
      ]
    },
    {
      "cell_type": "code",
      "source": [
        "# Sort the DataFrame by Movie Rating in ascending order\n",
        "lowest_rated_movie = df.sort_values(by='Movie_Rating').iloc[0]\n",
        "\n",
        "# Print the name of the movie\n",
        "movie_name = lowest_rated_movie['Name_of_movie']\n",
        "print(\"Movie with the lowest movie rating (overall dataset):\", movie_name)\n"
      ],
      "metadata": {
        "id": "e12bY6ugnQeK",
        "colab": {
          "base_uri": "https://localhost:8080/"
        },
        "outputId": "525d5df7-d05a-4e91-ce07-52e3257c2f1b"
      },
      "execution_count": 39,
      "outputs": [
        {
          "output_type": "stream",
          "name": "stdout",
          "text": [
            "Movie with the lowest movie rating (overall dataset): Cell 211\n"
          ]
        }
      ]
    },
    {
      "cell_type": "markdown",
      "source": [
        "Now we want to explore the relationship between Metascore (which is given before the release of Movie) and Votes ( which are the response from watchers).So we need to do Bivariate Analysis using SCATTER PLOT"
      ],
      "metadata": {
        "id": "E2b7Z805oKb-"
      }
    },
    {
      "cell_type": "code",
      "source": [
        "\n",
        "\n",
        "# Set a custom color palette\n",
        "sns.set_palette(\"viridis\")\n",
        "\n",
        "# Create the scatter plot\n",
        "sns.scatterplot(x='Metascore', y='Votes', data=df, marker='o', s=80, alpha=0.6)\n",
        "\n",
        "# Add labels to the axes\n",
        "plt.xlabel('Metascore')\n",
        "plt.ylabel('Votes')\n",
        "\n",
        "# Set the title\n",
        "plt.title('Scatter Plot of Metascore vs. Votes')\n",
        "\n",
        "# Show the plot\n",
        "plt.show()\n"
      ],
      "metadata": {
        "id": "iV39cT_qonks",
        "colab": {
          "base_uri": "https://localhost:8080/",
          "height": 480
        },
        "outputId": "714a67cd-5a13-47ce-dbc7-2fe99aa6b014"
      },
      "execution_count": 40,
      "outputs": [
        {
          "output_type": "display_data",
          "data": {
            "text/plain": [
              "<Figure size 640x480 with 1 Axes>"
            ],
            "image/png": "[encoded data removed]"
          },
          "metadata": {}
        }
      ]
    },
    {
      "cell_type": "markdown",
      "source": [
        "So it shows that More the Meta score more will be the Votes are  less negatively correlated which also justifies our heat map where are correlation was -0.0675 i.e they are less positively correlated there are some movies where votes increases with Metascore while majority of movies have more Metascore but less Votes"
      ],
      "metadata": {
        "id": "lOnQqkABo5Ua"
      }
    },
    {
      "cell_type": "markdown",
      "source": [
        "Now we want to explore one of our target variables 'Metascore'"
      ],
      "metadata": {
        "id": "Spin08LhpEBs"
      }
    },
    {
      "cell_type": "code",
      "source": [
        "# Set the figure size\n",
        "plt.figure(figsize=(10, 6))\n",
        "# Create a box plot\n",
        "sns.set(style=\"whitegrid\")\n",
        "ax = sns.boxplot(y='Metascore', data=df)\n",
        "\n",
        "# Calculate statistical values\n",
        "quartiles = df['Metascore'].quantile([0.25, 0.5, 0.75])\n",
        "median = quartiles[0.5]\n",
        "q1 = quartiles[0.25]\n",
        "q3 = quartiles[0.75]\n",
        "\n",
        "# Find potential outliers\n",
        "iqr = q3 - q1\n",
        "lower_bound = q1 - 1.5 * iqr\n",
        "upper_bound = q3 + 1.5 * iqr\n",
        "\n",
        "\n",
        "# Print the statistical measures and outliers\n",
        "print(\"Quartiles (Q1, Median, Q3):\", q1, median, q3)\n",
        "print(\"\\n\")\n",
        "print(\"Lower Bound is: \",lower_bound)\n",
        "print(\"\\n\")\n",
        "print(\"Upper Bound is: \",upper_bound)\n",
        "print(\"\\n\")\n",
        "outliers = df[(df['Metascore'] < lower_bound) | (df['Metascore'] > upper_bound)]\n",
        "print(\"Potential Outliers:\\n\", (outliers['Metascore']))\n",
        "print(\"Potential Outliers:\\n\", len(outliers['Metascore']))\n",
        "\n",
        "# Add a title\n",
        "plt.title('Box Plot of Metascore')\n",
        "plt.show()\n"
      ],
      "metadata": {
        "id": "Roj3Ckr4pJAC",
        "colab": {
          "base_uri": "https://localhost:8080/",
          "height": 1000
        },
        "outputId": "1a0f8686-a301-4768-9892-c6b46db01b93"
      },
      "execution_count": 41,
      "outputs": [
        {
          "output_type": "stream",
          "name": "stdout",
          "text": [
            "Quartiles (Q1, Median, Q3): 73.0 79.08165680473373 86.0\n",
            "\n",
            "\n",
            "Lower Bound is:  53.5\n",
            "\n",
            "\n",
            "Upper Bound is:  105.5\n",
            "\n",
            "\n",
            "Potential Outliers:\n",
            " 414    47.0\n",
            "433    33.0\n",
            "487    49.0\n",
            "514    47.0\n",
            "555    50.0\n",
            "604    51.0\n",
            "612    53.0\n",
            "613    47.0\n",
            "625    50.0\n",
            "631    48.0\n",
            "647    51.0\n",
            "661    49.0\n",
            "770    47.0\n",
            "811    44.0\n",
            "825    47.0\n",
            "843    45.0\n",
            "854    52.0\n",
            "868    53.0\n",
            "913    51.0\n",
            "935    46.0\n",
            "943    52.0\n",
            "944    52.0\n",
            "959    30.0\n",
            "977    53.0\n",
            "990    28.0\n",
            "Name: Metascore, dtype: float64\n",
            "Potential Outliers:\n",
            " 25\n"
          ]
        },
        {
          "output_type": "display_data",
          "data": {
            "text/plain": [
              "<Figure size 1000x600 with 1 Axes>"
            ],
            "image/png": "[encoded data removed]"
          },
          "metadata": {}
        }
      ]
    },
    {
      "cell_type": "markdown",
      "source": [
        "**Inferences**"
      ],
      "metadata": {
        "id": "xHaPvOzyrLek"
      }
    },
    {
      "cell_type": "markdown",
      "source": [
        "We can see from the box plot for Metascore:\n",
        "\n",
        "\n",
        "*   There are total 25 potential Outliers\n",
        "*   Lowest Metascore is 7.9702\n",
        "\n",
        "\n",
        "*   Q1 = 73.0\n",
        "*   Median = 79.081\n",
        "\n",
        "\n",
        "*   Q3 = 86.0\n",
        "*   Movie rating > 105.5 and < 53.5 are considered as Ouliers"
      ],
      "metadata": {
        "id": "0j4D9_vqrT3h"
      }
    },
    {
      "cell_type": "markdown",
      "source": [
        "Although we got the Statiscal Measures of Metascore but we should know about the distribution of Metascore"
      ],
      "metadata": {
        "id": "cjFzUKT3rNmF"
      }
    },
    {
      "cell_type": "code",
      "source": [
        "# Create a figure and axis\n",
        "fig, ax = plt.subplots()\n",
        "\n",
        "# Set a custom color for the bars\n",
        "color = 'skyblue'\n",
        "\n",
        "# Plot the histogram\n",
        "ax.hist(df['Metascore'], bins=20, color=color, edgecolor='black', alpha=0.7)\n",
        "\n",
        "# Add labels and title\n",
        "plt.xlabel('Metascore', fontsize=12)\n",
        "plt.ylabel('Frequency', fontsize=12)\n",
        "plt.title('Distribution of Metascore', fontsize=16)\n",
        "\n",
        "# Add grid lines\n",
        "ax.grid(axis='y', linestyle='--', alpha=0.7)\n",
        "\n",
        "# Remove the top and right spines\n",
        "ax.spines['top'].set_visible(False)\n",
        "ax.spines['right'].set_visible(False)\n",
        "\n",
        "# Show the plot\n",
        "plt.show()"
      ],
      "metadata": {
        "id": "muklr1w5r8ZP",
        "colab": {
          "base_uri": "https://localhost:8080/",
          "height": 482
        },
        "outputId": "a7f6725b-fdda-44ee-d1ef-9aa409b7ccb8"
      },
      "execution_count": 42,
      "outputs": [
        {
          "output_type": "display_data",
          "data": {
            "text/plain": [
              "<Figure size 640x480 with 1 Axes>"
            ],
            "image/png": "[encoded data removed]"
          },
          "metadata": {}
        }
      ]
    },
    {
      "cell_type": "markdown",
      "source": [
        "This is a Negatively skewed Graph most of the data is concentrated on the right tail of the graph"
      ],
      "metadata": {
        "id": "vDmfZWEYsIAA"
      }
    },
    {
      "cell_type": "code",
      "source": [
        "# Filter the DataFrame for movies with a specific 'Metascore' value\n",
        "outliers = df[df['Metascore'] == 28.0]\n",
        "\n",
        "# Check if there are any movies in the DataFrame\n",
        "if not outliers.empty:\n",
        "    # Find the movie with the lowest 'Metascore' among the filtered movies\n",
        "    lowest_rated_outlier_movie = outliers[outliers['Metascore'] == outliers['Metascore'].min()]\n",
        "\n",
        "    # Check if there is a movie with the lowest 'Movie Rating'\n",
        "    if not lowest_rated_outlier_movie.empty:\n",
        "        movie_name = lowest_rated_outlier_movie['Name_of_movie'].values[0]\n",
        "        print(\"Movie with the lowest Metascore (outlier):\", movie_name)\n",
        "    else:\n",
        "        print(\"No movie has the lowest Metascore among the outliers.\")\n",
        "else:\n",
        "    print(\"No movies with the specified Metascore were found.\")\n",
        "\n"
      ],
      "metadata": {
        "id": "wkBB_PqTppcX",
        "colab": {
          "base_uri": "https://localhost:8080/"
        },
        "outputId": "5d5daf16-0f10-4e1d-ea9b-862509c0f899"
      },
      "execution_count": 43,
      "outputs": [
        {
          "output_type": "stream",
          "name": "stdout",
          "text": [
            "Movie with the lowest Metascore (outlier): I Am Sam\n"
          ]
        }
      ]
    },
    {
      "cell_type": "code",
      "source": [
        "# Sort the DataFrame by Metascore in descending order to find the highest Metascore\n",
        "highest_metascore_movie = df.sort_values(by='Metascore', ascending=False).iloc[0]\n",
        "\n",
        "# Print the name of the movie\n",
        "movie_name = highest_metascore_movie['Name_of_movie']\n",
        "print(\"Movie with the highest Metascore (overall dataset):\", movie_name)\n"
      ],
      "metadata": {
        "id": "Yvr0aI7UqJqz",
        "colab": {
          "base_uri": "https://localhost:8080/"
        },
        "outputId": "ba4f6699-573d-44fc-f3ab-9793f1a3976e"
      },
      "execution_count": 44,
      "outputs": [
        {
          "output_type": "stream",
          "name": "stdout",
          "text": [
            "Movie with the highest Metascore (overall dataset): Vertigo\n"
          ]
        }
      ]
    },
    {
      "cell_type": "markdown",
      "source": [
        "----\n",
        "# **MACHINE LEARNING MODEL**\n",
        "\n",
        "----"
      ],
      "metadata": {
        "id": "MY-2jVzTrCeg"
      }
    },
    {
      "cell_type": "markdown",
      "source": [
        "\n",
        "Now we are done with Numerical data Values but we have Object type variables also so our STRATEGY of making a machine learning model will consists of these points:\n",
        "\n",
        "\n",
        "*   We will Take the Important Columns of Object Datatype like 'Director' and 'Stars' with the selected Numerical datatype columns.  \n",
        "*   Since a ML model can work with only Numerical Columns so we have to do the **Label Encoding**\n",
        "\n",
        "*   It will be used to convert the object datatype to a numerical datatype.\n",
        "\n",
        "\n",
        "*   After that we will standardize the data in order to look after the accuracy\n",
        "*   Then we are going to use Random Forest Classifier which was the best fitted\n",
        "regressor model in our project\n",
        "\n",
        "\n",
        "\n",
        "\n",
        "\n",
        "\n",
        "\n",
        "\n",
        "\n"
      ],
      "metadata": {
        "id": "HNt8z2U2rJUf"
      }
    },
    {
      "cell_type": "markdown",
      "source": [
        "**LABEL ENCODING**"
      ],
      "metadata": {
        "id": "wpipmrXgsmlO"
      }
    },
    {
      "cell_type": "code",
      "source": [
        "# converting column to numerical datatype\n",
        "\n",
        "df['Director'] = df['Director'].astype('category')\n",
        "df['Stars\t'] = df['Stars'].astype('category')\n"
      ],
      "metadata": {
        "id": "Nu6y3vZ9rIqC"
      },
      "execution_count": 45,
      "outputs": []
    },
    {
      "cell_type": "code",
      "source": [
        "# Select columns with data type 'category'\n",
        "cat_columns = df.select_dtypes(['category']).columns\n",
        "\n",
        "# Apply label encoding to each categorical column\n",
        "for column in cat_columns:\n",
        "    df[column] = df[column].cat.codes"
      ],
      "metadata": {
        "id": "mVcfAtd8qfer"
      },
      "execution_count": 46,
      "outputs": []
    },
    {
      "cell_type": "markdown",
      "source": [
        "df[column] = df[column].cat.codes\n",
        "\n",
        "Inside the loop, this line applies label encoding to each categorical column. df[column] accesses the specific column we are currently iterating through. df[column].cat accesses the categorical attributes of the column, and .codes is used to obtain the numeric codes associated with each unique category in that column."
      ],
      "metadata": {
        "id": "ySlT4COLvPmd"
      }
    },
    {
      "cell_type": "code",
      "source": [
        "df.head()"
      ],
      "metadata": {
        "id": "tkytxPmoumxf",
        "colab": {
          "base_uri": "https://localhost:8080/",
          "height": 206
        },
        "outputId": "e57e624a-6f3e-4adc-9459-103bee6e81ad"
      },
      "execution_count": 47,
      "outputs": [
        {
          "output_type": "execute_result",
          "data": {
            "text/plain": [
              "                                   Name_of_movie  Year_of_release  \\\n",
              "0                       The Shawshank Redemption             1994   \n",
              "1                                  The Godfather             1972   \n",
              "2                                The Dark Knight             2008   \n",
              "3                               Schindler's List             1993   \n",
              "4  The Lord of the Rings: The Return of the King             2003   \n",
              "\n",
              "   Movie_Rating  Metascore    Votes  Grosses  Director  \\\n",
              "0           9.3       82.0  2811733    28.34       199   \n",
              "1           9.2      100.0  1959532   134.97       197   \n",
              "2           9.0       84.0  2793415   534.86        73   \n",
              "3           9.0       95.0  1413454    96.90       507   \n",
              "4           9.0       94.0  1925087   377.85       426   \n",
              "\n",
              "                                               Stars  Stars\\t  \n",
              "0  ['Tim Robbins', 'Morgan Freeman', 'Bob Gunton'...      891  \n",
              "1  ['Marlon Brando', 'Al Pacino', 'James Caan', '...      636  \n",
              "2  ['Christian Bale', 'Heath Ledger', 'Aaron Eckh...      198  \n",
              "3  ['Liam Neeson', 'Ralph Fiennes', 'Ben Kingsley...      600  \n",
              "4  ['Elijah Wood', 'Viggo Mortensen', 'Ian McKell...      301  "
            ],
            "text/html": [
              "\n",
              "  <div id=\"df-3f135809-1d7d-4426-8e48-05dced8bd43c\" class=\"colab-df-container\">\n",
              "    <div>\n",
              "<style scoped>\n",
              "    .dataframe tbody tr th:only-of-type {\n",
              "        vertical-align: middle;\n",
              "    }\n",
              "\n",
              "    .dataframe tbody tr th {\n",
              "        vertical-align: top;\n",
              "    }\n",
              "\n",
              "    .dataframe thead th {\n",
              "        text-align: right;\n",
              "    }\n",
              "</style>\n",
              "<table border=\"1\" class=\"dataframe\">\n",
              "  <thead>\n",
              "    <tr style=\"text-align: right;\">\n",
              "      <th></th>\n",
              "      <th>Name_of_movie</th>\n",
              "      <th>Year_of_release</th>\n",
              "      <th>Movie_Rating</th>\n",
              "      <th>Metascore</th>\n",
              "      <th>Votes</th>\n",
              "      <th>Grosses</th>\n",
              "      <th>Director</th>\n",
              "      <th>Stars</th>\n",
              "      <th>Stars\\t</th>\n",
              "    </tr>\n",
              "  </thead>\n",
              "  <tbody>\n",
              "    <tr>\n",
              "      <th>0</th>\n",
              "      <td>The Shawshank Redemption</td>\n",
              "      <td>1994</td>\n",
              "      <td>9.3</td>\n",
              "      <td>82.0</td>\n",
              "      <td>2811733</td>\n",
              "      <td>28.34</td>\n",
              "      <td>199</td>\n",
              "      <td>['Tim Robbins', 'Morgan Freeman', 'Bob Gunton'...</td>\n",
              "      <td>891</td>\n",
              "    </tr>\n",
              "    <tr>\n",
              "      <th>1</th>\n",
              "      <td>The Godfather</td>\n",
              "      <td>1972</td>\n",
              "      <td>9.2</td>\n",
              "      <td>100.0</td>\n",
              "      <td>1959532</td>\n",
              "      <td>134.97</td>\n",
              "      <td>197</td>\n",
              "      <td>['Marlon Brando', 'Al Pacino', 'James Caan', '...</td>\n",
              "      <td>636</td>\n",
              "    </tr>\n",
              "    <tr>\n",
              "      <th>2</th>\n",
              "      <td>The Dark Knight</td>\n",
              "      <td>2008</td>\n",
              "      <td>9.0</td>\n",
              "      <td>84.0</td>\n",
              "      <td>2793415</td>\n",
              "      <td>534.86</td>\n",
              "      <td>73</td>\n",
              "      <td>['Christian Bale', 'Heath Ledger', 'Aaron Eckh...</td>\n",
              "      <td>198</td>\n",
              "    </tr>\n",
              "    <tr>\n",
              "      <th>3</th>\n",
              "      <td>Schindler's List</td>\n",
              "      <td>1993</td>\n",
              "      <td>9.0</td>\n",
              "      <td>95.0</td>\n",
              "      <td>1413454</td>\n",
              "      <td>96.90</td>\n",
              "      <td>507</td>\n",
              "      <td>['Liam Neeson', 'Ralph Fiennes', 'Ben Kingsley...</td>\n",
              "      <td>600</td>\n",
              "    </tr>\n",
              "    <tr>\n",
              "      <th>4</th>\n",
              "      <td>The Lord of the Rings: The Return of the King</td>\n",
              "      <td>2003</td>\n",
              "      <td>9.0</td>\n",
              "      <td>94.0</td>\n",
              "      <td>1925087</td>\n",
              "      <td>377.85</td>\n",
              "      <td>426</td>\n",
              "      <td>['Elijah Wood', 'Viggo Mortensen', 'Ian McKell...</td>\n",
              "      <td>301</td>\n",
              "    </tr>\n",
              "  </tbody>\n",
              "</table>\n",
              "</div>\n",
              "    <div class=\"colab-df-buttons\">\n",
              "\n",
              "  <div class=\"colab-df-container\">\n",
              "    <button class=\"colab-df-convert\" onclick=\"convertToInteractive('df-3f135809-1d7d-4426-8e48-05dced8bd43c')\"\n",
              "            title=\"Convert this dataframe to an interactive table.\"\n",
              "            style=\"display:none;\">\n",
              "\n",
              "  <svg xmlns=\"http://www.w3.org/2000/svg\" height=\"24px\" viewBox=\"0 -960 960 960\">\n",
              "    <path d=\"M120-120v-720h720v720H120Zm60-500h600v-160H180v160Zm220 220h160v-160H400v160Zm0 220h160v-160H400v160ZM180-400h160v-160H180v160Zm440 0h160v-160H620v160ZM180-180h160v-160H180v160Zm440 0h160v-160H620v160Z\"/>\n",
              "  </svg>\n",
              "    </button>\n",
              "\n",
              "  <style>\n",
              "    .colab-df-container {\n",
              "      display:flex;\n",
              "      gap: 12px;\n",
              "    }\n",
              "\n",
              "    .colab-df-convert {\n",
              "      background-color: #E8F0FE;\n",
              "      border: none;\n",
              "      border-radius: 50%;\n",
              "      cursor: pointer;\n",
              "      display: none;\n",
              "      fill: #1967D2;\n",
              "      height: 32px;\n",
              "      padding: 0 0 0 0;\n",
              "      width: 32px;\n",
              "    }\n",
              "\n",
              "    .colab-df-convert:hover {\n",
              "      background-color: #E2EBFA;\n",
              "      box-shadow: 0px 1px 2px rgba(60, 64, 67, 0.3), 0px 1px 3px 1px rgba(60, 64, 67, 0.15);\n",
              "      fill: #174EA6;\n",
              "    }\n",
              "\n",
              "    .colab-df-buttons div {\n",
              "      margin-bottom: 4px;\n",
              "    }\n",
              "\n",
              "    [theme=dark] .colab-df-convert {\n",
              "      background-color: #3B4455;\n",
              "      fill: #D2E3FC;\n",
              "    }\n",
              "\n",
              "    [theme=dark] .colab-df-convert:hover {\n",
              "      background-color: #434B5C;\n",
              "      box-shadow: 0px 1px 3px 1px rgba(0, 0, 0, 0.15);\n",
              "      filter: drop-shadow(0px 1px 2px rgba(0, 0, 0, 0.3));\n",
              "      fill: #FFFFFF;\n",
              "    }\n",
              "  </style>\n",
              "\n",
              "    <script>\n",
              "      const buttonEl =\n",
              "        document.querySelector('#df-3f135809-1d7d-4426-8e48-05dced8bd43c button.colab-df-convert');\n",
              "      buttonEl.style.display =\n",
              "        google.colab.kernel.accessAllowed ? 'block' : 'none';\n",
              "\n",
              "      async function convertToInteractive(key) {\n",
              "        const element = document.querySelector('#df-3f135809-1d7d-4426-8e48-05dced8bd43c');\n",
              "        const dataTable =\n",
              "          await google.colab.kernel.invokeFunction('convertToInteractive',\n",
              "                                                    [key], {});\n",
              "        if (!dataTable) return;\n",
              "\n",
              "        const docLinkHtml = 'Like what you see? Visit the ' +\n",
              "          '<a target=\"_blank\" href=https://colab.research.google.com/notebooks/data_table.ipynb>data table notebook</a>'\n",
              "          + ' to learn more about interactive tables.';\n",
              "        element.innerHTML = '';\n",
              "        dataTable['output_type'] = 'display_data';\n",
              "        await google.colab.output.renderOutput(dataTable, element);\n",
              "        const docLink = document.createElement('div');\n",
              "        docLink.innerHTML = docLinkHtml;\n",
              "        element.appendChild(docLink);\n",
              "      }\n",
              "    </script>\n",
              "  </div>\n",
              "\n",
              "\n",
              "<div id=\"df-9bc91d62-3bbf-4432-8ed1-2ee345b3d7a1\">\n",
              "  <button class=\"colab-df-quickchart\" onclick=\"quickchart('df-9bc91d62-3bbf-4432-8ed1-2ee345b3d7a1')\"\n",
              "            title=\"Suggest charts.\"\n",
              "            style=\"display:none;\">\n",
              "\n",
              "<svg xmlns=\"http://www.w3.org/2000/svg\" height=\"24px\"viewBox=\"0 0 24 24\"\n",
              "     width=\"24px\">\n",
              "    <g>\n",
              "        <path d=\"M19 3H5c-1.1 0-2 .9-2 2v14c0 1.1.9 2 2 2h14c1.1 0 2-.9 2-2V5c0-1.1-.9-2-2-2zM9 17H7v-7h2v7zm4 0h-2V7h2v10zm4 0h-2v-4h2v4z\"/>\n",
              "    </g>\n",
              "</svg>\n",
              "  </button>\n",
              "\n",
              "<style>\n",
              "  .colab-df-quickchart {\n",
              "      --bg-color: #E8F0FE;\n",
              "      --fill-color: #1967D2;\n",
              "      --hover-bg-color: #E2EBFA;\n",
              "      --hover-fill-color: #174EA6;\n",
              "      --disabled-fill-color: #AAA;\n",
              "      --disabled-bg-color: #DDD;\n",
              "  }\n",
              "\n",
              "  [theme=dark] .colab-df-quickchart {\n",
              "      --bg-color: #3B4455;\n",
              "      --fill-color: #D2E3FC;\n",
              "      --hover-bg-color: #434B5C;\n",
              "      --hover-fill-color: #FFFFFF;\n",
              "      --disabled-bg-color: #3B4455;\n",
              "      --disabled-fill-color: #666;\n",
              "  }\n",
              "\n",
              "  .colab-df-quickchart {\n",
              "    background-color: var(--bg-color);\n",
              "    border: none;\n",
              "    border-radius: 50%;\n",
              "    cursor: pointer;\n",
              "    display: none;\n",
              "    fill: var(--fill-color);\n",
              "    height: 32px;\n",
              "    padding: 0;\n",
              "    width: 32px;\n",
              "  }\n",
              "\n",
              "  .colab-df-quickchart:hover {\n",
              "    background-color: var(--hover-bg-color);\n",
              "    box-shadow: 0 1px 2px rgba(60, 64, 67, 0.3), 0 1px 3px 1px rgba(60, 64, 67, 0.15);\n",
              "    fill: var(--button-hover-fill-color);\n",
              "  }\n",
              "\n",
              "  .colab-df-quickchart-complete:disabled,\n",
              "  .colab-df-quickchart-complete:disabled:hover {\n",
              "    background-color: var(--disabled-bg-color);\n",
              "    fill: var(--disabled-fill-color);\n",
              "    box-shadow: none;\n",
              "  }\n",
              "\n",
              "  .colab-df-spinner {\n",
              "    border: 2px solid var(--fill-color);\n",
              "    border-color: transparent;\n",
              "    border-bottom-color: var(--fill-color);\n",
              "    animation:\n",
              "      spin 1s steps(1) infinite;\n",
              "  }\n",
              "\n",
              "  @keyframes spin {\n",
              "    0% {\n",
              "      border-color: transparent;\n",
              "      border-bottom-color: var(--fill-color);\n",
              "      border-left-color: var(--fill-color);\n",
              "    }\n",
              "    20% {\n",
              "      border-color: transparent;\n",
              "      border-left-color: var(--fill-color);\n",
              "      border-top-color: var(--fill-color);\n",
              "    }\n",
              "    30% {\n",
              "      border-color: transparent;\n",
              "      border-left-color: var(--fill-color);\n",
              "      border-top-color: var(--fill-color);\n",
              "      border-right-color: var(--fill-color);\n",
              "    }\n",
              "    40% {\n",
              "      border-color: transparent;\n",
              "      border-right-color: var(--fill-color);\n",
              "      border-top-color: var(--fill-color);\n",
              "    }\n",
              "    60% {\n",
              "      border-color: transparent;\n",
              "      border-right-color: var(--fill-color);\n",
              "    }\n",
              "    80% {\n",
              "      border-color: transparent;\n",
              "      border-right-color: var(--fill-color);\n",
              "      border-bottom-color: var(--fill-color);\n",
              "    }\n",
              "    90% {\n",
              "      border-color: transparent;\n",
              "      border-bottom-color: var(--fill-color);\n",
              "    }\n",
              "  }\n",
              "</style>\n",
              "\n",
              "  <script>\n",
              "    async function quickchart(key) {\n",
              "      const quickchartButtonEl =\n",
              "        document.querySelector('#' + key + ' button');\n",
              "      quickchartButtonEl.disabled = true;  // To prevent multiple clicks.\n",
              "      quickchartButtonEl.classList.add('colab-df-spinner');\n",
              "      try {\n",
              "        const charts = await google.colab.kernel.invokeFunction(\n",
              "            'suggestCharts', [key], {});\n",
              "      } catch (error) {\n",
              "        console.error('Error during call to suggestCharts:', error);\n",
              "      }\n",
              "      quickchartButtonEl.classList.remove('colab-df-spinner');\n",
              "      quickchartButtonEl.classList.add('colab-df-quickchart-complete');\n",
              "    }\n",
              "    (() => {\n",
              "      let quickchartButtonEl =\n",
              "        document.querySelector('#df-9bc91d62-3bbf-4432-8ed1-2ee345b3d7a1 button');\n",
              "      quickchartButtonEl.style.display =\n",
              "        google.colab.kernel.accessAllowed ? 'block' : 'none';\n",
              "    })();\n",
              "  </script>\n",
              "</div>\n",
              "    </div>\n",
              "  </div>\n"
            ]
          },
          "metadata": {},
          "execution_count": 47
        }
      ]
    },
    {
      "cell_type": "markdown",
      "source": [
        "---\n",
        "\n",
        "\n",
        "\n",
        "**RANDOM FOREST REGRESSOR**\n",
        "\n",
        "---"
      ],
      "metadata": {
        "id": "rXUJEn13kDch"
      }
    },
    {
      "cell_type": "markdown",
      "source": [
        "\n",
        "\n",
        "\n",
        "\n",
        "\n",
        "**What is Random Forest Regressor**"
      ],
      "metadata": {
        "id": "UW7QXUMAkGsc"
      }
    },
    {
      "cell_type": "code",
      "source": [],
      "metadata": {
        "id": "1ujkcjMZWkuH"
      },
      "execution_count": 47,
      "outputs": []
    },
    {
      "cell_type": "markdown",
      "source": [
        "A Random Forest Regressor is a machine learning algorithm that is used for regression tasks. It's an ensemble learning method, meaning it combines the predictions of multiple individual models (in this case, decision trees) to make more accurate and robust predictions. Random Forest is particularly useful for handling complex regression problems and is known for its high predictive accuracy and resistance to overfitting.\n",
        "\n",
        "- It's designed for predicting a continuous numerical value or quantity.\n",
        "  \n",
        "- It's commonly used for tasks like predicting stock prices, housing prices, or any problem where you want to estimate a numerical value.\n",
        "- The outcome is a real-valued number.\n",
        "\n",
        "\n",
        "![WhatsApp Image 2023-10-31 at 01.22.48_e2340c97.jpg](data:image/jpeg;base64,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)"
      ],
      "metadata": {
        "id": "1lRHZJLVkpw-"
      }
    },
    {
      "cell_type": "markdown",
      "source": [
        "**Splitting of the Variables**\n"
      ],
      "metadata": {
        "id": "sGiyiywUlh2z"
      }
    },
    {
      "cell_type": "markdown",
      "source": [
        "Now in this, we have input variables X consisting of Stars, Votes, Director and Metascore and we are going to create a Target Variable Y that isGrosses which will be the prediction."
      ],
      "metadata": {
        "id": "Qb_kM7KMlo3v"
      }
    },
    {
      "cell_type": "code",
      "source": [
        "# Now, you can create the 'X' and 'y' variables\n",
        "X = df[['Stars\\t', 'Votes', 'Director', 'Metascore']]  # Features\n",
        "y = df['Grosses']  # Target variable"
      ],
      "metadata": {
        "id": "8QiJAYhc1zxT"
      },
      "execution_count": 48,
      "outputs": []
    },
    {
      "cell_type": "markdown",
      "source": [
        "Now we are going to use train_test_split` from scikit-learn to divide a dataset (`X` and `Y`) into training (80%) and testing (20%) subsets for machine learning, with a random seed of 42."
      ],
      "metadata": {
        "id": "f_mNYRB3ne3d"
      }
    },
    {
      "cell_type": "code",
      "source": [
        "# Split the data into training and testing sets\n",
        "X_train, X_test, y_train, y_test = train_test_split(X, y, test_size=0.2, random_state=42)"
      ],
      "metadata": {
        "id": "xcnYHfJymgqE"
      },
      "execution_count": 49,
      "outputs": []
    },
    {
      "cell_type": "markdown",
      "source": [
        "**StandardScaler**"
      ],
      "metadata": {
        "id": "mZ2TPHqGoOJ3"
      }
    },
    {
      "cell_type": "markdown",
      "source": [
        "Standardization scales the data to have a mean of 0 and a standard deviation of 1, making it suitable for many machine learning algorithms.\n",
        "\n",
        "The standard score of a sample x is calculated as:\n",
        "\n",
        "z = (x - u) / s\n",
        "\n",
        "breaks down as follows:\n",
        "\n",
        "z: This is the standardized value of a sample also known as z score.\n",
        "\n",
        "x: This is the original value of a sample.\n",
        "\n",
        "u: This is the mean (average) of the feature across all samples in the dataset.\n",
        "\n",
        "s: This is the standard deviation of the feature across all samples in the dataset."
      ],
      "metadata": {
        "id": "1aenEEbxoRuO"
      }
    },
    {
      "cell_type": "markdown",
      "source": [
        "Now we are going to initialize a `StandardScaler` to standardize the training data (`X_train`) and then applies the same transformation to the testing data (`X_test`)."
      ],
      "metadata": {
        "id": "nB4GlcUzoHYk"
      }
    },
    {
      "cell_type": "code",
      "source": [
        "# Create and fit a StandardScaler to standardize the data\n",
        "scaler = StandardScaler()\n",
        "X_train_scaled = scaler.fit_transform(X_train)\n",
        "X_test_scaled = scaler.transform(X_test)"
      ],
      "metadata": {
        "id": "n0lrhFa-nzMW"
      },
      "execution_count": 50,
      "outputs": []
    },
    {
      "cell_type": "code",
      "source": [
        "# Create a Random Forest Regressor model\n",
        "model = RandomForestRegressor(random_state=42)\n",
        "\n",
        "# Train the model on the scaled training data\n",
        "model.fit(X_train_scaled, y_train)"
      ],
      "metadata": {
        "id": "5CrgkWdio4UW",
        "colab": {
          "base_uri": "https://localhost:8080/",
          "height": 74
        },
        "outputId": "5bbb254a-3b3b-48ad-a844-ff8edc74983c"
      },
      "execution_count": 51,
      "outputs": [
        {
          "output_type": "execute_result",
          "data": {
            "text/plain": [
              "RandomForestRegressor(random_state=42)"
            ],
            "text/html": [
              "<style>#sk-container-id-1 {color: black;background-color: white;}#sk-container-id-1 pre{padding: 0;}#sk-container-id-1 div.sk-toggleable {background-color: white;}#sk-container-id-1 label.sk-toggleable__label {cursor: pointer;display: block;width: 100%;margin-bottom: 0;padding: 0.3em;box-sizing: border-box;text-align: center;}#sk-container-id-1 label.sk-toggleable__label-arrow:before {content: \"▸\";float: left;margin-right: 0.25em;color: #696969;}#sk-container-id-1 label.sk-toggleable__label-arrow:hover:before {color: black;}#sk-container-id-1 div.sk-estimator:hover label.sk-toggleable__label-arrow:before {color: black;}#sk-container-id-1 div.sk-toggleable__content {max-height: 0;max-width: 0;overflow: hidden;text-align: left;background-color: #f0f8ff;}#sk-container-id-1 div.sk-toggleable__content pre {margin: 0.2em;color: black;border-radius: 0.25em;background-color: #f0f8ff;}#sk-container-id-1 input.sk-toggleable__control:checked~div.sk-toggleable__content {max-height: 200px;max-width: 100%;overflow: auto;}#sk-container-id-1 input.sk-toggleable__control:checked~label.sk-toggleable__label-arrow:before {content: \"▾\";}#sk-container-id-1 div.sk-estimator input.sk-toggleable__control:checked~label.sk-toggleable__label {background-color: #d4ebff;}#sk-container-id-1 div.sk-label input.sk-toggleable__control:checked~label.sk-toggleable__label {background-color: #d4ebff;}#sk-container-id-1 input.sk-hidden--visually {border: 0;clip: rect(1px 1px 1px 1px);clip: rect(1px, 1px, 1px, 1px);height: 1px;margin: -1px;overflow: hidden;padding: 0;position: absolute;width: 1px;}#sk-container-id-1 div.sk-estimator {font-family: monospace;background-color: #f0f8ff;border: 1px dotted black;border-radius: 0.25em;box-sizing: border-box;margin-bottom: 0.5em;}#sk-container-id-1 div.sk-estimator:hover {background-color: #d4ebff;}#sk-container-id-1 div.sk-parallel-item::after {content: \"\";width: 100%;border-bottom: 1px solid gray;flex-grow: 1;}#sk-container-id-1 div.sk-label:hover label.sk-toggleable__label {background-color: #d4ebff;}#sk-container-id-1 div.sk-serial::before {content: \"\";position: absolute;border-left: 1px solid gray;box-sizing: border-box;top: 0;bottom: 0;left: 50%;z-index: 0;}#sk-container-id-1 div.sk-serial {display: flex;flex-direction: column;align-items: center;background-color: white;padding-right: 0.2em;padding-left: 0.2em;position: relative;}#sk-container-id-1 div.sk-item {position: relative;z-index: 1;}#sk-container-id-1 div.sk-parallel {display: flex;align-items: stretch;justify-content: center;background-color: white;position: relative;}#sk-container-id-1 div.sk-item::before, #sk-container-id-1 div.sk-parallel-item::before {content: \"\";position: absolute;border-left: 1px solid gray;box-sizing: border-box;top: 0;bottom: 0;left: 50%;z-index: -1;}#sk-container-id-1 div.sk-parallel-item {display: flex;flex-direction: column;z-index: 1;position: relative;background-color: white;}#sk-container-id-1 div.sk-parallel-item:first-child::after {align-self: flex-end;width: 50%;}#sk-container-id-1 div.sk-parallel-item:last-child::after {align-self: flex-start;width: 50%;}#sk-container-id-1 div.sk-parallel-item:only-child::after {width: 0;}#sk-container-id-1 div.sk-dashed-wrapped {border: 1px dashed gray;margin: 0 0.4em 0.5em 0.4em;box-sizing: border-box;padding-bottom: 0.4em;background-color: white;}#sk-container-id-1 div.sk-label label {font-family: monospace;font-weight: bold;display: inline-block;line-height: 1.2em;}#sk-container-id-1 div.sk-label-container {text-align: center;}#sk-container-id-1 div.sk-container {/* jupyter's `normalize.less` sets `[hidden] { display: none; }` but bootstrap.min.css set `[hidden] { display: none !important; }` so we also need the `!important` here to be able to override the default hidden behavior on the sphinx rendered scikit-learn.org. See: https://github.com/scikit-learn/scikit-learn/issues/21755 */display: inline-block !important;position: relative;}#sk-container-id-1 div.sk-text-repr-fallback {display: none;}</style><div id=\"sk-container-id-1\" class=\"sk-top-container\"><div class=\"sk-text-repr-fallback\"><pre>RandomForestRegressor(random_state=42)</pre><b>In a Jupyter environment, please rerun this cell to show the HTML representation or trust the notebook. <br />On GitHub, the HTML representation is unable to render, please try loading this page with nbviewer.org.</b></div><div class=\"sk-container\" hidden><div class=\"sk-item\"><div class=\"sk-estimator sk-toggleable\"><input class=\"sk-toggleable__control sk-hidden--visually\" id=\"sk-estimator-id-1\" type=\"checkbox\" checked><label for=\"sk-estimator-id-1\" class=\"sk-toggleable__label sk-toggleable__label-arrow\">RandomForestRegressor</label><div class=\"sk-toggleable__content\"><pre>RandomForestRegressor(random_state=42)</pre></div></div></div></div></div>"
            ]
          },
          "metadata": {},
          "execution_count": 51
        }
      ]
    },
    {
      "cell_type": "markdown",
      "source": [
        "Now we are taking the user input and standardizing them for the further predictions"
      ],
      "metadata": {
        "id": "Aaaohy91o8tR"
      }
    },
    {
      "cell_type": "code",
      "source": [
        "# Standardize the user inputs\n",
        "stars = 405\n",
        "votes = 1925678\n",
        "directors = 60\n",
        "metascore = 87\n",
        "user_input = scaler.transform([[stars, votes, directors, metascore]])"
      ],
      "metadata": {
        "id": "bu_knphppErU"
      },
      "execution_count": 52,
      "outputs": []
    },
    {
      "cell_type": "code",
      "source": [
        "\n",
        "# Make predictions using user inputs on the scaled data\n",
        "prediction = model.predict(user_input)"
      ],
      "metadata": {
        "id": "qhXZMX-QpH3Q"
      },
      "execution_count": 53,
      "outputs": []
    },
    {
      "cell_type": "markdown",
      "source": [
        "As we can see that our model is ready but since it is a regression model so we need to take out the errors lke MAE , MSE , RMSE and R-squared to know the reliablity of our model"
      ],
      "metadata": {
        "id": "iYYi1l5-pNUT"
      }
    },
    {
      "cell_type": "code",
      "source": [
        "\n",
        "# Evaluate the model performance on the test set using the scaled test data\n",
        "y_pred = model.predict(X_test_scaled)\n",
        "\n",
        "mae = mean_absolute_error(y_test, y_pred)\n",
        "mse = mean_squared_error(y_test, y_pred)\n",
        "rmse = mean_squared_error(y_test, y_pred, squared=False)\n",
        "r2 = r2_score(y_test, y_pred)"
      ],
      "metadata": {
        "id": "80xrsLSYpMe8"
      },
      "execution_count": 54,
      "outputs": []
    },
    {
      "cell_type": "code",
      "source": [
        "\n",
        "print(\"Mean Absolute Error (MAE) on Test Set:\", mae)\n",
        "print(\"Mean Squared Error (MSE) on Test Set:\", mse)\n",
        "print(\"Root Mean Squared Error (RMSE) on Test Set:\", rmse)\n",
        "print(\"R-squared (R2) on Test Set:\", r2)\n"
      ],
      "metadata": {
        "id": "PWLHIbz12OlM",
        "colab": {
          "base_uri": "https://localhost:8080/"
        },
        "outputId": "b42fa24e-d2f8-4c2a-a9cc-f10f1cfec115"
      },
      "execution_count": 55,
      "outputs": [
        {
          "output_type": "stream",
          "name": "stdout",
          "text": [
            "Mean Absolute Error (MAE) on Test Set: 51.893021\n",
            "Mean Squared Error (MSE) on Test Set: 8129.0522382954\n",
            "Root Mean Squared Error (RMSE) on Test Set: 90.16125685845002\n",
            "R-squared (R2) on Test Set: 0.2800275027726923\n"
          ]
        }
      ]
    },
    {
      "cell_type": "code",
      "source": [
        "# Format the prediction to display as \"$xxx.xxM\"\n",
        "formatted_prediction = f\"${prediction[0]:.2f}M\"\n",
        "\n",
        "print(\"Estimated Box Office Earnings:\", formatted_prediction)"
      ],
      "metadata": {
        "id": "8y1tZBfxpKFq",
        "colab": {
          "base_uri": "https://localhost:8080/"
        },
        "outputId": "c8a77804-41c9-4c05-8ce6-34477a6f13bc"
      },
      "execution_count": 56,
      "outputs": [
        {
          "output_type": "stream",
          "name": "stdout",
          "text": [
            "Estimated Box Office Earnings: $220.37M\n"
          ]
        }
      ]
    }
  ]
}